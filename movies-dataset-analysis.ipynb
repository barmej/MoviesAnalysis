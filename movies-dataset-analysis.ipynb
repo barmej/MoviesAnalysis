{
 "cells": [
  {
   "cell_type": "markdown",
   "metadata": {
    "papermill": {
     "duration": 0.037773,
     "end_time": "2020-09-19T18:24:45.691408",
     "exception": false,
     "start_time": "2020-09-19T18:24:45.653635",
     "status": "completed"
    },
    "tags": []
   },
   "source": [
    "<span dir=\"rtl\" align=\"right\">\n",
    "\n",
    "# **تحليل استكشافي حول الأفلام حتى عام ٢٠١٧**\n",
    "</span>"
   ]
  },
  {
   "cell_type": "markdown",
   "metadata": {
    "papermill": {
     "duration": 0.035809,
     "end_time": "2020-09-19T18:24:45.833436",
     "exception": false,
     "start_time": "2020-09-19T18:24:45.797627",
     "status": "completed"
    },
    "tags": []
   },
   "source": [
    "<span dir=\"rtl\" align=\"right\">\n",
    "    \n",
    "## نبذة عن ملفات البيانات\n",
    "- ملفات تشمل بيانات الأفلام لـ ٤٥٫٠٠٠ فيلم من قاعدة بيانات تدعى موڤي لينز.\n",
    "- تحتوي على جميع الأفلام التي تم إصدارها خلال شهر يوليو ٢٠١٧ وما قبله.\n",
    "- البيانات تشمل الطاقم والممثلين، الحبكة، الميزانية، الايرادات، الملصقات، تواريخ الإصدار، اللغات، شركات الانتاج، الدول المنتجة، تقييمات الجمهور على موقع تي إم دي بي.\n",
    "\n",
    "    \n",
    "</span>"
   ]
  },
  {
   "cell_type": "markdown",
   "metadata": {
    "papermill": {
     "duration": 0.036235,
     "end_time": "2020-09-19T18:24:45.904913",
     "exception": false,
     "start_time": "2020-09-19T18:24:45.868678",
     "status": "completed"
    },
    "tags": []
   },
   "source": [
    "<span dir=\"rtl\" align=\"right\">\n",
    "\n",
    "## سنستعرض في هذا التحليل:\n",
    "- أكثر الكلمات تكرارًا في عناوين الأفلام. \n",
    "- سلاسل الأفلام الناجحة من حيث العوائد. \n",
    "- أكثر شركات الانتاج نجاحًا من متوسط الأرباح بالنسبة لعدد الأفلام المنتَجة. \n",
    "- أكثر اللغات المستخدمة كلغة للفيلم، وعدد الأفلام بهذه اللغة. \n",
    "- العلاقة بين عوائد الفيلم وتاريخ الاصدار، هل هناك أشهر معينة تزيد فيها أرباح الأفلام المنتَجة؟\n",
    "- أعلى الأفلام من حيث تكلفة الانتاج.\n",
    "- توزيع الأفلام من حيث التصنيف (دراما، أكشن، كوميدي، إلخ). \n",
    "- أعلى العوائد للأفلام من حيث التصنيف. \n",
    "- أكثر الممثلين نجاحًا من حيث العوائد.    \n",
    "   \n",
    "    \n",
    "</span>"
   ]
  },
  {
   "cell_type": "markdown",
   "metadata": {
    "papermill": {
     "duration": 0.035235,
     "end_time": "2020-09-19T18:24:46.045831",
     "exception": false,
     "start_time": "2020-09-19T18:24:46.010596",
     "status": "completed"
    },
    "tags": []
   },
   "source": [
    "<span dir=\"rtl\" align=\"right\">\n",
    "\n",
    "### تثبيت مكتبة تشارت ستديو وتحديث (pip) قبل استدعاء المكتبات اللازمة (لا بد من تشغيل الانترنت ضمن إعدادات النوت بوك)\n",
    "</span>"
   ]
  },
  {
   "cell_type": "code",
   "execution_count": 3,
   "metadata": {
    "execution": {
     "iopub.execute_input": "2020-09-19T18:24:46.119227Z",
     "iopub.status.busy": "2020-09-19T18:24:46.118672Z",
     "iopub.status.idle": "2020-09-19T18:25:00.829419Z",
     "shell.execute_reply": "2020-09-19T18:25:00.828663Z"
    },
    "papermill": {
     "duration": 14.748499,
     "end_time": "2020-09-19T18:25:00.829569",
     "exception": false,
     "start_time": "2020-09-19T18:24:46.08107",
     "status": "completed"
    },
    "tags": []
   },
   "outputs": [
    {
     "name": "stdout",
     "output_type": "stream",
     "text": [
      "Requirement already satisfied: chart_studio in /opt/anaconda3/lib/python3.7/site-packages (1.1.0)\n",
      "Requirement already satisfied: six in /opt/anaconda3/lib/python3.7/site-packages (from chart_studio) (1.12.0)\n",
      "Requirement already satisfied: retrying>=1.3.3 in /opt/anaconda3/lib/python3.7/site-packages (from chart_studio) (1.3.3)\n",
      "Requirement already satisfied: plotly in /opt/anaconda3/lib/python3.7/site-packages (from chart_studio) (4.10.0)\n",
      "Requirement already satisfied: requests in /opt/anaconda3/lib/python3.7/site-packages (from chart_studio) (2.22.0)\n",
      "Requirement already satisfied: idna<2.9,>=2.5 in /opt/anaconda3/lib/python3.7/site-packages (from requests->chart_studio) (2.8)\n",
      "Requirement already satisfied: chardet<3.1.0,>=3.0.2 in /opt/anaconda3/lib/python3.7/site-packages (from requests->chart_studio) (3.0.4)\n",
      "Requirement already satisfied: certifi>=2017.4.17 in /opt/anaconda3/lib/python3.7/site-packages (from requests->chart_studio) (2019.9.11)\n",
      "Requirement already satisfied: urllib3!=1.25.0,!=1.25.1,<1.26,>=1.21.1 in /opt/anaconda3/lib/python3.7/site-packages (from requests->chart_studio) (1.24.2)\n",
      "Requirement already up-to-date: pip in /opt/anaconda3/lib/python3.7/site-packages (20.2.3)\n",
      "Collecting wordcloud\n",
      "  Downloading wordcloud-1.8.0-cp37-cp37m-macosx_10_6_x86_64.whl (161 kB)\n",
      "\u001b[K     |████████████████████████████████| 161 kB 185 kB/s eta 0:00:01\n",
      "\u001b[?25hRequirement already satisfied: pillow in /opt/anaconda3/lib/python3.7/site-packages (from wordcloud) (6.2.0)\n",
      "Requirement already satisfied: matplotlib in /opt/anaconda3/lib/python3.7/site-packages (from wordcloud) (3.1.1)\n",
      "Requirement already satisfied: numpy>=1.6.1 in /opt/anaconda3/lib/python3.7/site-packages (from wordcloud) (1.17.2)\n",
      "Requirement already satisfied: cycler>=0.10 in /opt/anaconda3/lib/python3.7/site-packages (from matplotlib->wordcloud) (0.10.0)\n",
      "Requirement already satisfied: kiwisolver>=1.0.1 in /opt/anaconda3/lib/python3.7/site-packages (from matplotlib->wordcloud) (1.1.0)\n",
      "Requirement already satisfied: pyparsing!=2.0.4,!=2.1.2,!=2.1.6,>=2.0.1 in /opt/anaconda3/lib/python3.7/site-packages (from matplotlib->wordcloud) (2.4.2)\n",
      "Requirement already satisfied: python-dateutil>=2.1 in /opt/anaconda3/lib/python3.7/site-packages (from matplotlib->wordcloud) (2.8.0)\n",
      "Requirement already satisfied: six in /opt/anaconda3/lib/python3.7/site-packages (from cycler>=0.10->matplotlib->wordcloud) (1.12.0)\n",
      "Requirement already satisfied: setuptools in /opt/anaconda3/lib/python3.7/site-packages (from kiwisolver>=1.0.1->matplotlib->wordcloud) (49.6.0)\n",
      "Installing collected packages: wordcloud\n",
      "Successfully installed wordcloud-1.8.0\n"
     ]
    }
   ],
   "source": [
    "!pip install chart_studio\n",
    "!pip install --upgrade pip\n",
    "!pip install wordcloud"
   ]
  },
  {
   "cell_type": "markdown",
   "metadata": {
    "papermill": {
     "duration": 0.041077,
     "end_time": "2020-09-19T18:25:00.911739",
     "exception": false,
     "start_time": "2020-09-19T18:25:00.870662",
     "status": "completed"
    },
    "tags": []
   },
   "source": [
    "<span dir=\"rtl\" align=\"right\">\n",
    "\n",
    "### استدعاء المكتبات اللازمة (لا بد من إزالة المكتبات الزائدة بعد التنظيف)\n",
    "</span>"
   ]
  },
  {
   "cell_type": "code",
   "execution_count": 4,
   "metadata": {
    "_cell_guid": "7da7ec20-ba9f-4806-bf4b-dfd36f1e308b",
    "_uuid": "d2b3e1bc447f0b359d863af1de61e56f4e2c8e26",
    "execution": {
     "iopub.execute_input": "2020-09-19T18:25:01.009317Z",
     "iopub.status.busy": "2020-09-19T18:25:01.008672Z",
     "iopub.status.idle": "2020-09-19T18:25:03.146914Z",
     "shell.execute_reply": "2020-09-19T18:25:03.146411Z"
    },
    "papermill": {
     "duration": 2.19457,
     "end_time": "2020-09-19T18:25:03.147028",
     "exception": false,
     "start_time": "2020-09-19T18:25:00.952458",
     "status": "completed"
    },
    "tags": []
   },
   "outputs": [
    {
     "data": {
      "text/html": [
       "        <script type=\"text/javascript\">\n",
       "        window.PlotlyConfig = {MathJaxConfig: 'local'};\n",
       "        if (window.MathJax) {MathJax.Hub.Config({SVG: {font: \"STIX-Web\"}});}\n",
       "        if (typeof require !== 'undefined') {\n",
       "        require.undef(\"plotly\");\n",
       "        requirejs.config({\n",
       "            paths: {\n",
       "                'plotly': ['https://cdn.plot.ly/plotly-latest.min']\n",
       "            }\n",
       "        });\n",
       "        require(['plotly'], function(Plotly) {\n",
       "            window._Plotly = Plotly;\n",
       "        });\n",
       "        }\n",
       "        </script>\n",
       "        "
      ]
     },
     "metadata": {},
     "output_type": "display_data"
    }
   ],
   "source": [
    "%matplotlib inline\n",
    "from IPython.display import Image, HTML\n",
    "import json\n",
    "import datetime\n",
    "import ast\n",
    "import pandas as pd\n",
    "import matplotlib.pyplot as plt\n",
    "import seaborn as sns\n",
    "import numpy as np\n",
    "from wordcloud import WordCloud, STOPWORDS\n",
    "import plotly\n",
    "import plotly.offline as py\n",
    "py.init_notebook_mode(connected=True)\n",
    "import warnings\n",
    "warnings.filterwarnings('ignore')\n",
    "import chart_studio\n",
    "chart_studio.tools.set_credentials_file(username='DemoAccount', api_key='lr1c37zw81')\n",
    "import chart_studio.plotly as py\n",
    "from chart_studio.plotly import plot, iplot\n",
    "\n",
    "sns.set_style('whitegrid')\n",
    "sns.set(font_scale=1.25)\n",
    "pd.set_option('display.max_colwidth', 50)"
   ]
  },
  {
   "cell_type": "markdown",
   "metadata": {
    "papermill": {
     "duration": 0.040083,
     "end_time": "2020-09-19T18:25:03.227688",
     "exception": false,
     "start_time": "2020-09-19T18:25:03.187605",
     "status": "completed"
    },
    "tags": []
   },
   "source": [
    "<span dir=\"rtl\" align=\"right\">\n",
    "\n",
    "### قراءة واستعراض ملف البيانات (ملف خصائص الأفلام)\n",
    "</span>"
   ]
  },
  {
   "cell_type": "code",
   "execution_count": 5,
   "metadata": {
    "_cell_guid": "802ba741-2c66-420c-bd74-afc45a49a4c1",
    "_uuid": "930e0aa58d8c885194b3c84e61e4e2393f87a675",
    "execution": {
     "iopub.execute_input": "2020-09-19T18:25:03.315915Z",
     "iopub.status.busy": "2020-09-19T18:25:03.31532Z",
     "iopub.status.idle": "2020-09-19T18:25:03.943376Z",
     "shell.execute_reply": "2020-09-19T18:25:03.943798Z"
    },
    "papermill": {
     "duration": 0.675834,
     "end_time": "2020-09-19T18:25:03.943949",
     "exception": false,
     "start_time": "2020-09-19T18:25:03.268115",
     "status": "completed"
    },
    "tags": []
   },
   "outputs": [
    {
     "data": {
      "text/html": [
       "<div>\n",
       "<style scoped>\n",
       "    .dataframe tbody tr th:only-of-type {\n",
       "        vertical-align: middle;\n",
       "    }\n",
       "\n",
       "    .dataframe tbody tr th {\n",
       "        vertical-align: top;\n",
       "    }\n",
       "\n",
       "    .dataframe thead th {\n",
       "        text-align: right;\n",
       "    }\n",
       "</style>\n",
       "<table border=\"1\" class=\"dataframe\">\n",
       "  <thead>\n",
       "    <tr style=\"text-align: right;\">\n",
       "      <th></th>\n",
       "      <th>0</th>\n",
       "      <th>1</th>\n",
       "      <th>2</th>\n",
       "      <th>3</th>\n",
       "      <th>4</th>\n",
       "    </tr>\n",
       "  </thead>\n",
       "  <tbody>\n",
       "    <tr>\n",
       "      <td>adult</td>\n",
       "      <td>False</td>\n",
       "      <td>False</td>\n",
       "      <td>False</td>\n",
       "      <td>False</td>\n",
       "      <td>False</td>\n",
       "    </tr>\n",
       "    <tr>\n",
       "      <td>belongs_to_collection</td>\n",
       "      <td>{'id': 10194, 'name': 'Toy Story Collection', ...</td>\n",
       "      <td>NaN</td>\n",
       "      <td>{'id': 119050, 'name': 'Grumpy Old Men Collect...</td>\n",
       "      <td>NaN</td>\n",
       "      <td>{'id': 96871, 'name': 'Father of the Bride Col...</td>\n",
       "    </tr>\n",
       "    <tr>\n",
       "      <td>budget</td>\n",
       "      <td>30000000</td>\n",
       "      <td>65000000</td>\n",
       "      <td>0</td>\n",
       "      <td>16000000</td>\n",
       "      <td>0</td>\n",
       "    </tr>\n",
       "    <tr>\n",
       "      <td>genres</td>\n",
       "      <td>[{'id': 16, 'name': 'Animation'}, {'id': 35, '...</td>\n",
       "      <td>[{'id': 12, 'name': 'Adventure'}, {'id': 14, '...</td>\n",
       "      <td>[{'id': 10749, 'name': 'Romance'}, {'id': 35, ...</td>\n",
       "      <td>[{'id': 35, 'name': 'Comedy'}, {'id': 18, 'nam...</td>\n",
       "      <td>[{'id': 35, 'name': 'Comedy'}]</td>\n",
       "    </tr>\n",
       "    <tr>\n",
       "      <td>homepage</td>\n",
       "      <td>http://toystory.disney.com/toy-story</td>\n",
       "      <td>NaN</td>\n",
       "      <td>NaN</td>\n",
       "      <td>NaN</td>\n",
       "      <td>NaN</td>\n",
       "    </tr>\n",
       "    <tr>\n",
       "      <td>id</td>\n",
       "      <td>862</td>\n",
       "      <td>8844</td>\n",
       "      <td>15602</td>\n",
       "      <td>31357</td>\n",
       "      <td>11862</td>\n",
       "    </tr>\n",
       "    <tr>\n",
       "      <td>imdb_id</td>\n",
       "      <td>tt0114709</td>\n",
       "      <td>tt0113497</td>\n",
       "      <td>tt0113228</td>\n",
       "      <td>tt0114885</td>\n",
       "      <td>tt0113041</td>\n",
       "    </tr>\n",
       "    <tr>\n",
       "      <td>original_language</td>\n",
       "      <td>en</td>\n",
       "      <td>en</td>\n",
       "      <td>en</td>\n",
       "      <td>en</td>\n",
       "      <td>en</td>\n",
       "    </tr>\n",
       "    <tr>\n",
       "      <td>original_title</td>\n",
       "      <td>Toy Story</td>\n",
       "      <td>Jumanji</td>\n",
       "      <td>Grumpier Old Men</td>\n",
       "      <td>Waiting to Exhale</td>\n",
       "      <td>Father of the Bride Part II</td>\n",
       "    </tr>\n",
       "    <tr>\n",
       "      <td>overview</td>\n",
       "      <td>Led by Woody, Andy's toys live happily in his ...</td>\n",
       "      <td>When siblings Judy and Peter discover an encha...</td>\n",
       "      <td>A family wedding reignites the ancient feud be...</td>\n",
       "      <td>Cheated on, mistreated and stepped on, the wom...</td>\n",
       "      <td>Just when George Banks has recovered from his ...</td>\n",
       "    </tr>\n",
       "    <tr>\n",
       "      <td>popularity</td>\n",
       "      <td>21.9469</td>\n",
       "      <td>17.0155</td>\n",
       "      <td>11.7129</td>\n",
       "      <td>3.85949</td>\n",
       "      <td>8.38752</td>\n",
       "    </tr>\n",
       "    <tr>\n",
       "      <td>poster_path</td>\n",
       "      <td>/rhIRbceoE9lR4veEXuwCC2wARtG.jpg</td>\n",
       "      <td>/vzmL6fP7aPKNKPRTFnZmiUfciyV.jpg</td>\n",
       "      <td>/6ksm1sjKMFLbO7UY2i6G1ju9SML.jpg</td>\n",
       "      <td>/16XOMpEaLWkrcPqSQqhTmeJuqQl.jpg</td>\n",
       "      <td>/e64sOI48hQXyru7naBFyssKFxVd.jpg</td>\n",
       "    </tr>\n",
       "    <tr>\n",
       "      <td>production_companies</td>\n",
       "      <td>[{'name': 'Pixar Animation Studios', 'id': 3}]</td>\n",
       "      <td>[{'name': 'TriStar Pictures', 'id': 559}, {'na...</td>\n",
       "      <td>[{'name': 'Warner Bros.', 'id': 6194}, {'name'...</td>\n",
       "      <td>[{'name': 'Twentieth Century Fox Film Corporat...</td>\n",
       "      <td>[{'name': 'Sandollar Productions', 'id': 5842}...</td>\n",
       "    </tr>\n",
       "    <tr>\n",
       "      <td>production_countries</td>\n",
       "      <td>[{'iso_3166_1': 'US', 'name': 'United States o...</td>\n",
       "      <td>[{'iso_3166_1': 'US', 'name': 'United States o...</td>\n",
       "      <td>[{'iso_3166_1': 'US', 'name': 'United States o...</td>\n",
       "      <td>[{'iso_3166_1': 'US', 'name': 'United States o...</td>\n",
       "      <td>[{'iso_3166_1': 'US', 'name': 'United States o...</td>\n",
       "    </tr>\n",
       "    <tr>\n",
       "      <td>release_date</td>\n",
       "      <td>1995-10-30</td>\n",
       "      <td>1995-12-15</td>\n",
       "      <td>1995-12-22</td>\n",
       "      <td>1995-12-22</td>\n",
       "      <td>1995-02-10</td>\n",
       "    </tr>\n",
       "    <tr>\n",
       "      <td>revenue</td>\n",
       "      <td>3.73554e+08</td>\n",
       "      <td>2.62797e+08</td>\n",
       "      <td>0</td>\n",
       "      <td>8.14522e+07</td>\n",
       "      <td>7.65789e+07</td>\n",
       "    </tr>\n",
       "    <tr>\n",
       "      <td>runtime</td>\n",
       "      <td>81</td>\n",
       "      <td>104</td>\n",
       "      <td>101</td>\n",
       "      <td>127</td>\n",
       "      <td>106</td>\n",
       "    </tr>\n",
       "    <tr>\n",
       "      <td>spoken_languages</td>\n",
       "      <td>[{'iso_639_1': 'en', 'name': 'English'}]</td>\n",
       "      <td>[{'iso_639_1': 'en', 'name': 'English'}, {'iso...</td>\n",
       "      <td>[{'iso_639_1': 'en', 'name': 'English'}]</td>\n",
       "      <td>[{'iso_639_1': 'en', 'name': 'English'}]</td>\n",
       "      <td>[{'iso_639_1': 'en', 'name': 'English'}]</td>\n",
       "    </tr>\n",
       "    <tr>\n",
       "      <td>status</td>\n",
       "      <td>Released</td>\n",
       "      <td>Released</td>\n",
       "      <td>Released</td>\n",
       "      <td>Released</td>\n",
       "      <td>Released</td>\n",
       "    </tr>\n",
       "    <tr>\n",
       "      <td>tagline</td>\n",
       "      <td>NaN</td>\n",
       "      <td>Roll the dice and unleash the excitement!</td>\n",
       "      <td>Still Yelling. Still Fighting. Still Ready for...</td>\n",
       "      <td>Friends are the people who let you be yourself...</td>\n",
       "      <td>Just When His World Is Back To Normal... He's ...</td>\n",
       "    </tr>\n",
       "    <tr>\n",
       "      <td>title</td>\n",
       "      <td>Toy Story</td>\n",
       "      <td>Jumanji</td>\n",
       "      <td>Grumpier Old Men</td>\n",
       "      <td>Waiting to Exhale</td>\n",
       "      <td>Father of the Bride Part II</td>\n",
       "    </tr>\n",
       "    <tr>\n",
       "      <td>video</td>\n",
       "      <td>False</td>\n",
       "      <td>False</td>\n",
       "      <td>False</td>\n",
       "      <td>False</td>\n",
       "      <td>False</td>\n",
       "    </tr>\n",
       "    <tr>\n",
       "      <td>vote_average</td>\n",
       "      <td>7.7</td>\n",
       "      <td>6.9</td>\n",
       "      <td>6.5</td>\n",
       "      <td>6.1</td>\n",
       "      <td>5.7</td>\n",
       "    </tr>\n",
       "    <tr>\n",
       "      <td>vote_count</td>\n",
       "      <td>5415</td>\n",
       "      <td>2413</td>\n",
       "      <td>92</td>\n",
       "      <td>34</td>\n",
       "      <td>173</td>\n",
       "    </tr>\n",
       "  </tbody>\n",
       "</table>\n",
       "</div>"
      ],
      "text/plain": [
       "                                                                       0  \\\n",
       "adult                                                              False   \n",
       "belongs_to_collection  {'id': 10194, 'name': 'Toy Story Collection', ...   \n",
       "budget                                                          30000000   \n",
       "genres                 [{'id': 16, 'name': 'Animation'}, {'id': 35, '...   \n",
       "homepage                            http://toystory.disney.com/toy-story   \n",
       "id                                                                   862   \n",
       "imdb_id                                                        tt0114709   \n",
       "original_language                                                     en   \n",
       "original_title                                                 Toy Story   \n",
       "overview               Led by Woody, Andy's toys live happily in his ...   \n",
       "popularity                                                       21.9469   \n",
       "poster_path                             /rhIRbceoE9lR4veEXuwCC2wARtG.jpg   \n",
       "production_companies      [{'name': 'Pixar Animation Studios', 'id': 3}]   \n",
       "production_countries   [{'iso_3166_1': 'US', 'name': 'United States o...   \n",
       "release_date                                                  1995-10-30   \n",
       "revenue                                                      3.73554e+08   \n",
       "runtime                                                               81   \n",
       "spoken_languages                [{'iso_639_1': 'en', 'name': 'English'}]   \n",
       "status                                                          Released   \n",
       "tagline                                                              NaN   \n",
       "title                                                          Toy Story   \n",
       "video                                                              False   \n",
       "vote_average                                                         7.7   \n",
       "vote_count                                                          5415   \n",
       "\n",
       "                                                                       1  \\\n",
       "adult                                                              False   \n",
       "belongs_to_collection                                                NaN   \n",
       "budget                                                          65000000   \n",
       "genres                 [{'id': 12, 'name': 'Adventure'}, {'id': 14, '...   \n",
       "homepage                                                             NaN   \n",
       "id                                                                  8844   \n",
       "imdb_id                                                        tt0113497   \n",
       "original_language                                                     en   \n",
       "original_title                                                   Jumanji   \n",
       "overview               When siblings Judy and Peter discover an encha...   \n",
       "popularity                                                       17.0155   \n",
       "poster_path                             /vzmL6fP7aPKNKPRTFnZmiUfciyV.jpg   \n",
       "production_companies   [{'name': 'TriStar Pictures', 'id': 559}, {'na...   \n",
       "production_countries   [{'iso_3166_1': 'US', 'name': 'United States o...   \n",
       "release_date                                                  1995-12-15   \n",
       "revenue                                                      2.62797e+08   \n",
       "runtime                                                              104   \n",
       "spoken_languages       [{'iso_639_1': 'en', 'name': 'English'}, {'iso...   \n",
       "status                                                          Released   \n",
       "tagline                        Roll the dice and unleash the excitement!   \n",
       "title                                                            Jumanji   \n",
       "video                                                              False   \n",
       "vote_average                                                         6.9   \n",
       "vote_count                                                          2413   \n",
       "\n",
       "                                                                       2  \\\n",
       "adult                                                              False   \n",
       "belongs_to_collection  {'id': 119050, 'name': 'Grumpy Old Men Collect...   \n",
       "budget                                                                 0   \n",
       "genres                 [{'id': 10749, 'name': 'Romance'}, {'id': 35, ...   \n",
       "homepage                                                             NaN   \n",
       "id                                                                 15602   \n",
       "imdb_id                                                        tt0113228   \n",
       "original_language                                                     en   \n",
       "original_title                                          Grumpier Old Men   \n",
       "overview               A family wedding reignites the ancient feud be...   \n",
       "popularity                                                       11.7129   \n",
       "poster_path                             /6ksm1sjKMFLbO7UY2i6G1ju9SML.jpg   \n",
       "production_companies   [{'name': 'Warner Bros.', 'id': 6194}, {'name'...   \n",
       "production_countries   [{'iso_3166_1': 'US', 'name': 'United States o...   \n",
       "release_date                                                  1995-12-22   \n",
       "revenue                                                                0   \n",
       "runtime                                                              101   \n",
       "spoken_languages                [{'iso_639_1': 'en', 'name': 'English'}]   \n",
       "status                                                          Released   \n",
       "tagline                Still Yelling. Still Fighting. Still Ready for...   \n",
       "title                                                   Grumpier Old Men   \n",
       "video                                                              False   \n",
       "vote_average                                                         6.5   \n",
       "vote_count                                                            92   \n",
       "\n",
       "                                                                       3  \\\n",
       "adult                                                              False   \n",
       "belongs_to_collection                                                NaN   \n",
       "budget                                                          16000000   \n",
       "genres                 [{'id': 35, 'name': 'Comedy'}, {'id': 18, 'nam...   \n",
       "homepage                                                             NaN   \n",
       "id                                                                 31357   \n",
       "imdb_id                                                        tt0114885   \n",
       "original_language                                                     en   \n",
       "original_title                                         Waiting to Exhale   \n",
       "overview               Cheated on, mistreated and stepped on, the wom...   \n",
       "popularity                                                       3.85949   \n",
       "poster_path                             /16XOMpEaLWkrcPqSQqhTmeJuqQl.jpg   \n",
       "production_companies   [{'name': 'Twentieth Century Fox Film Corporat...   \n",
       "production_countries   [{'iso_3166_1': 'US', 'name': 'United States o...   \n",
       "release_date                                                  1995-12-22   \n",
       "revenue                                                      8.14522e+07   \n",
       "runtime                                                              127   \n",
       "spoken_languages                [{'iso_639_1': 'en', 'name': 'English'}]   \n",
       "status                                                          Released   \n",
       "tagline                Friends are the people who let you be yourself...   \n",
       "title                                                  Waiting to Exhale   \n",
       "video                                                              False   \n",
       "vote_average                                                         6.1   \n",
       "vote_count                                                            34   \n",
       "\n",
       "                                                                       4  \n",
       "adult                                                              False  \n",
       "belongs_to_collection  {'id': 96871, 'name': 'Father of the Bride Col...  \n",
       "budget                                                                 0  \n",
       "genres                                    [{'id': 35, 'name': 'Comedy'}]  \n",
       "homepage                                                             NaN  \n",
       "id                                                                 11862  \n",
       "imdb_id                                                        tt0113041  \n",
       "original_language                                                     en  \n",
       "original_title                               Father of the Bride Part II  \n",
       "overview               Just when George Banks has recovered from his ...  \n",
       "popularity                                                       8.38752  \n",
       "poster_path                             /e64sOI48hQXyru7naBFyssKFxVd.jpg  \n",
       "production_companies   [{'name': 'Sandollar Productions', 'id': 5842}...  \n",
       "production_countries   [{'iso_3166_1': 'US', 'name': 'United States o...  \n",
       "release_date                                                  1995-02-10  \n",
       "revenue                                                      7.65789e+07  \n",
       "runtime                                                              106  \n",
       "spoken_languages                [{'iso_639_1': 'en', 'name': 'English'}]  \n",
       "status                                                          Released  \n",
       "tagline                Just When His World Is Back To Normal... He's ...  \n",
       "title                                        Father of the Bride Part II  \n",
       "video                                                              False  \n",
       "vote_average                                                         5.7  \n",
       "vote_count                                                           173  "
      ]
     },
     "execution_count": 5,
     "metadata": {},
     "output_type": "execute_result"
    }
   ],
   "source": [
    "df = pd.read_csv('movies_metadata.csv')\n",
    "df.head().transpose()"
   ]
  },
  {
   "cell_type": "code",
   "execution_count": 6,
   "metadata": {
    "_cell_guid": "3ceab5e0-f8fa-4886-92fb-3143ebefae04",
    "_uuid": "07bd1632794fd3b0894b937c11889683d4170b36",
    "execution": {
     "iopub.execute_input": "2020-09-19T18:25:04.031184Z",
     "iopub.status.busy": "2020-09-19T18:25:04.030577Z",
     "iopub.status.idle": "2020-09-19T18:25:04.036745Z",
     "shell.execute_reply": "2020-09-19T18:25:04.036198Z"
    },
    "papermill": {
     "duration": 0.050412,
     "end_time": "2020-09-19T18:25:04.036849",
     "exception": false,
     "start_time": "2020-09-19T18:25:03.986437",
     "status": "completed"
    },
    "tags": []
   },
   "outputs": [
    {
     "data": {
      "text/plain": [
       "Index(['adult', 'belongs_to_collection', 'budget', 'genres', 'homepage', 'id',\n",
       "       'imdb_id', 'original_language', 'original_title', 'overview',\n",
       "       'popularity', 'poster_path', 'production_companies',\n",
       "       'production_countries', 'release_date', 'revenue', 'runtime',\n",
       "       'spoken_languages', 'status', 'tagline', 'title', 'video',\n",
       "       'vote_average', 'vote_count'],\n",
       "      dtype='object')"
      ]
     },
     "execution_count": 6,
     "metadata": {},
     "output_type": "execute_result"
    }
   ],
   "source": [
    "df.columns"
   ]
  },
  {
   "cell_type": "markdown",
   "metadata": {
    "papermill": {
     "duration": 0.041304,
     "end_time": "2020-09-19T18:25:04.120356",
     "exception": false,
     "start_time": "2020-09-19T18:25:04.079052",
     "status": "completed"
    },
    "tags": []
   },
   "source": [
    "<span dir=\"rtl\" align=\"right\">\n",
    "    \n",
    "\n",
    "### الخصائص\n",
    " \n",
    "    \n",
    "* **adult - للكبار:** Indicates if the movie is X-Rated or Adult.\n",
    "* **belongs_to_collection - ضمن سلسلة:** A stringified dictionary that gives information on the movie series the particular film belongs to.\n",
    "* **budget - الميزانية:** The budget of the movie in dollars.\n",
    "* **genres - التصنيف:** A stringified list of dictionaries that list out all the genres associated with the movie.\n",
    "* **homepage:** The Official Homepage of the movie.\n",
    "* **id - الرقم التسلسلي:** The ID of the movie.\n",
    "* **imdb_id - الرقم التسلسلي للفيلم على موقع IMDB:** The IMDB ID of the movie.\n",
    "* **original_language - لغة الفيلم الأساسية:** The language in which the movie was originally shot in.\n",
    "* **original_title - عنوان الفيلم الأساسي:** The original title of the movie.\n",
    "* **overview - نبذة:** A brief blurb of the movie.\n",
    "* **popularity - مقياس شعبية الفيلم بحسب موقع IMDB:** The Popularity Score assigned by TMDB.\n",
    "* **poster_path - رابط ملصق الفيلم:** The URL of the poster image.\n",
    "* **production_companies - شركات الانتاج:** A stringified list of production companies involved with the making of the movie.\n",
    "* **production_countries - دول الانتاج:** A stringified list of countries where the movie was shot/produced in.\n",
    "* **release_date - تاريخ الاصدار:** Theatrical Release Date of the movie.\n",
    "* **revenue - الايرادات:** The total revenue of the movie in dollars.\n",
    "* **runtime - مدة الفيلم:** The runtime of the movie in minutes.\n",
    "* **spoken_languages - اللغات المستخدمة في الفيلم:** A stringified list of spoken languages in the film.\n",
    "* **status - الحالة:** The status of the movie (Released, To Be Released, Announced, etc.)\n",
    "* **tagline - سطر الوصف:** The tagline of the movie.\n",
    "* **title - العنوان:** The Official Title of the movie.\n",
    "* **video - فيديو الفيلم في موقع TMDB:** Indicates if there is a video present of the movie with TMDB.\n",
    "* **vote_average - متوسط تقييم الفيلم:** The average rating of the movie.\n",
    "* **vote_count - عدد المقيمين للفيلم في موقع TMDB:** The number of votes by users, as counted by TMDB.\n",
    "    \n",
    "</span>"
   ]
  },
  {
   "cell_type": "markdown",
   "metadata": {
    "papermill": {
     "duration": 0.041717,
     "end_time": "2020-09-19T18:25:04.203917",
     "exception": false,
     "start_time": "2020-09-19T18:25:04.1622",
     "status": "completed"
    },
    "tags": []
   },
   "source": [
    "<span dir=\"rtl\" align=\"right\">\n",
    "\n",
    "### للاستعلام عن حجم البيانات ومعلوماتها\n",
    "</span>"
   ]
  },
  {
   "cell_type": "code",
   "execution_count": 7,
   "metadata": {
    "_cell_guid": "f2c73762-4cdf-43ae-b9be-a1c138996f40",
    "_uuid": "83cf27cc41b34a9e26b439b05d10dc6008451911",
    "execution": {
     "iopub.execute_input": "2020-09-19T18:25:04.290162Z",
     "iopub.status.busy": "2020-09-19T18:25:04.289614Z",
     "iopub.status.idle": "2020-09-19T18:25:04.29377Z",
     "shell.execute_reply": "2020-09-19T18:25:04.294224Z"
    },
    "papermill": {
     "duration": 0.04863,
     "end_time": "2020-09-19T18:25:04.294356",
     "exception": false,
     "start_time": "2020-09-19T18:25:04.245726",
     "status": "completed"
    },
    "tags": []
   },
   "outputs": [
    {
     "data": {
      "text/plain": [
       "(45466, 24)"
      ]
     },
     "execution_count": 7,
     "metadata": {},
     "output_type": "execute_result"
    }
   ],
   "source": [
    "df.shape"
   ]
  },
  {
   "cell_type": "code",
   "execution_count": 8,
   "metadata": {
    "_cell_guid": "2aa45102-eb7d-4654-a381-910c9fb2a9b2",
    "_uuid": "767b6372ddc8ac76d1e59fed5002669606770245",
    "execution": {
     "iopub.execute_input": "2020-09-19T18:25:04.380951Z",
     "iopub.status.busy": "2020-09-19T18:25:04.380393Z",
     "iopub.status.idle": "2020-09-19T18:25:04.443667Z",
     "shell.execute_reply": "2020-09-19T18:25:04.444687Z"
    },
    "papermill": {
     "duration": 0.108648,
     "end_time": "2020-09-19T18:25:04.44493",
     "exception": false,
     "start_time": "2020-09-19T18:25:04.336282",
     "status": "completed"
    },
    "tags": []
   },
   "outputs": [
    {
     "name": "stdout",
     "output_type": "stream",
     "text": [
      "<class 'pandas.core.frame.DataFrame'>\n",
      "RangeIndex: 45466 entries, 0 to 45465\n",
      "Data columns (total 24 columns):\n",
      "adult                    45466 non-null object\n",
      "belongs_to_collection    4494 non-null object\n",
      "budget                   45466 non-null object\n",
      "genres                   45466 non-null object\n",
      "homepage                 7782 non-null object\n",
      "id                       45466 non-null object\n",
      "imdb_id                  45449 non-null object\n",
      "original_language        45455 non-null object\n",
      "original_title           45466 non-null object\n",
      "overview                 44512 non-null object\n",
      "popularity               45461 non-null object\n",
      "poster_path              45080 non-null object\n",
      "production_companies     45463 non-null object\n",
      "production_countries     45463 non-null object\n",
      "release_date             45379 non-null object\n",
      "revenue                  45460 non-null float64\n",
      "runtime                  45203 non-null float64\n",
      "spoken_languages         45460 non-null object\n",
      "status                   45379 non-null object\n",
      "tagline                  20412 non-null object\n",
      "title                    45460 non-null object\n",
      "video                    45460 non-null object\n",
      "vote_average             45460 non-null float64\n",
      "vote_count               45460 non-null float64\n",
      "dtypes: float64(4), object(20)\n",
      "memory usage: 8.3+ MB\n"
     ]
    }
   ],
   "source": [
    "df.info()"
   ]
  },
  {
   "cell_type": "markdown",
   "metadata": {
    "_cell_guid": "c69b73e9-30bd-463a-8ff5-b4d1ef60ae33",
    "_uuid": "7f60f6a2618fa990957de5d0b3707fa018725d73",
    "papermill": {
     "duration": 0.045547,
     "end_time": "2020-09-19T18:25:04.53486",
     "exception": false,
     "start_time": "2020-09-19T18:25:04.489313",
     "status": "completed"
    },
    "tags": []
   },
   "source": [
    "<span dir=\"rtl\" align=\"right\">\n",
    "\n",
    "## تجهيز البيانات \n",
    "\n",
    "</span>"
   ]
  },
  {
   "cell_type": "markdown",
   "metadata": {
    "papermill": {
     "duration": 0.041895,
     "end_time": "2020-09-19T18:25:04.622651",
     "exception": false,
     "start_time": "2020-09-19T18:25:04.580756",
     "status": "completed"
    },
    "tags": []
   },
   "source": [
    "<span dir=\"rtl\" align=\"right\">\n",
    "\n",
    "### استبدال العناوين الأصلية للأفلام بالعنوان المترجم وحذف العنوان الأصلي\n",
    "</span>"
   ]
  },
  {
   "cell_type": "code",
   "execution_count": 9,
   "metadata": {
    "_cell_guid": "29bf4898-a176-499c-9075-979009129fdc",
    "_uuid": "1e8fb4684602fecd1ada5734003cc888ad70497f",
    "execution": {
     "iopub.execute_input": "2020-09-19T18:25:04.72435Z",
     "iopub.status.busy": "2020-09-19T18:25:04.712637Z",
     "iopub.status.idle": "2020-09-19T18:25:04.733683Z",
     "shell.execute_reply": "2020-09-19T18:25:04.733108Z"
    },
    "papermill": {
     "duration": 0.068669,
     "end_time": "2020-09-19T18:25:04.73382",
     "exception": false,
     "start_time": "2020-09-19T18:25:04.665151",
     "status": "completed"
    },
    "tags": []
   },
   "outputs": [],
   "source": [
    "# حذف العنوان الأصلي للفيلم والاعتماد على العنوان المترجم\n",
    "df = df.drop('original_title', axis=1)"
   ]
  },
  {
   "cell_type": "code",
   "execution_count": 10,
   "metadata": {
    "_cell_guid": "e2ef36e1-ab26-4c3f-8a08-e0f8d1e4a97d",
    "_uuid": "3d6a11854e9953c449888c63c779abd3b413aacb",
    "execution": {
     "iopub.execute_input": "2020-09-19T18:25:04.825544Z",
     "iopub.status.busy": "2020-09-19T18:25:04.82434Z",
     "iopub.status.idle": "2020-09-19T18:25:04.842845Z",
     "shell.execute_reply": "2020-09-19T18:25:04.842284Z"
    },
    "papermill": {
     "duration": 0.066348,
     "end_time": "2020-09-19T18:25:04.842947",
     "exception": false,
     "start_time": "2020-09-19T18:25:04.776599",
     "status": "completed"
    },
    "tags": []
   },
   "outputs": [
    {
     "data": {
      "text/plain": [
       "(38052, 23)"
      ]
     },
     "execution_count": 10,
     "metadata": {},
     "output_type": "execute_result"
    }
   ],
   "source": [
    "# التحقق من الأفلام التي تحمل إيرادات غير مسجلة (صفر)\n",
    "df[df['revenue'] == 0].shape"
   ]
  },
  {
   "cell_type": "code",
   "execution_count": 11,
   "metadata": {
    "_cell_guid": "7d2e9124-a792-4c4b-af0e-fd27b9291496",
    "_uuid": "65f1ef9699df66653b5deb14caf6f2c665d19bc8",
    "execution": {
     "iopub.execute_input": "2020-09-19T18:25:04.94081Z",
     "iopub.status.busy": "2020-09-19T18:25:04.93998Z",
     "iopub.status.idle": "2020-09-19T18:25:04.943014Z",
     "shell.execute_reply": "2020-09-19T18:25:04.94337Z"
    },
    "papermill": {
     "duration": 0.057665,
     "end_time": "2020-09-19T18:25:04.94352",
     "exception": false,
     "start_time": "2020-09-19T18:25:04.885855",
     "status": "completed"
    },
    "tags": []
   },
   "outputs": [],
   "source": [
    "# استبدال الأفلام ذات الإيرادات صفر إلى قيمة مفقودة\n",
    "df['revenue'] = df['revenue'].replace(0, np.nan)"
   ]
  },
  {
   "cell_type": "markdown",
   "metadata": {
    "_cell_guid": "f2ccb70a-16ad-4242-bda7-a4c6c4e4d154",
    "_uuid": "ff540ec7f3eb425c37ee26d99e924d3ab33e6965",
    "papermill": {
     "duration": 0.042804,
     "end_time": "2020-09-19T18:25:05.029763",
     "exception": false,
     "start_time": "2020-09-19T18:25:04.986959",
     "status": "completed"
    },
    "tags": []
   },
   "source": [
    "The **budget** feature has some unclean values that makes Pandas assign it as a generic object. We proceed to convert this into a numeric variable and replace all the non-numeric values with NaN. Finally, as with budget, we will convert all the values of 0 with NaN to indicate the absence of information regarding budget."
   ]
  },
  {
   "cell_type": "code",
   "execution_count": 12,
   "metadata": {
    "_cell_guid": "930646b1-88ed-4998-80d9-38a14c7b14f2",
    "_uuid": "de9dcfb4a1e37b62dc8d9613d298d015a5406ef5",
    "execution": {
     "iopub.execute_input": "2020-09-19T18:25:05.141543Z",
     "iopub.status.busy": "2020-09-19T18:25:05.140964Z",
     "iopub.status.idle": "2020-09-19T18:25:05.17443Z",
     "shell.execute_reply": "2020-09-19T18:25:05.173956Z"
    },
    "papermill": {
     "duration": 0.101684,
     "end_time": "2020-09-19T18:25:05.174545",
     "exception": false,
     "start_time": "2020-09-19T18:25:05.072861",
     "status": "completed"
    },
    "tags": []
   },
   "outputs": [
    {
     "data": {
      "text/plain": [
       "(36576, 23)"
      ]
     },
     "execution_count": 12,
     "metadata": {},
     "output_type": "execute_result"
    }
   ],
   "source": [
    "# تحويل الميزانية من قيمة object \n",
    "# إلى قيمة رقمية\n",
    "# ثم استبدال كل قيمة صفرية غير مسجلة بقيمة مفقودة\n",
    "df['budget'] = pd.to_numeric(df['budget'], errors='coerce')\n",
    "df['budget'] = df['budget'].replace(0, np.nan)\n",
    "df[df['budget'].isnull()].shape"
   ]
  },
  {
   "cell_type": "markdown",
   "metadata": {
    "papermill": {
     "duration": 0.044204,
     "end_time": "2020-09-19T18:25:05.261624",
     "exception": false,
     "start_time": "2020-09-19T18:25:05.21742",
     "status": "completed"
    },
    "tags": []
   },
   "source": [
    "<span dir=\"rtl\" align=\"right\">\n",
    "\n",
    "#### سنقوم بانشاء عمود جديد للعوائد، سنوجد قيمة العوائد من خلال قسمة الإيرادات على الميزانية.\n",
    "</span>"
   ]
  },
  {
   "cell_type": "code",
   "execution_count": 13,
   "metadata": {
    "execution": {
     "iopub.execute_input": "2020-09-19T18:25:05.352452Z",
     "iopub.status.busy": "2020-09-19T18:25:05.351877Z",
     "iopub.status.idle": "2020-09-19T18:25:05.354388Z",
     "shell.execute_reply": "2020-09-19T18:25:05.354775Z"
    },
    "papermill": {
     "duration": 0.050297,
     "end_time": "2020-09-19T18:25:05.3549",
     "exception": false,
     "start_time": "2020-09-19T18:25:05.304603",
     "status": "completed"
    },
    "tags": []
   },
   "outputs": [],
   "source": [
    "df['return'] = df['revenue'] / df['budget']"
   ]
  },
  {
   "cell_type": "code",
   "execution_count": 14,
   "metadata": {
    "execution": {
     "iopub.execute_input": "2020-09-19T18:25:05.44422Z",
     "iopub.status.busy": "2020-09-19T18:25:05.443685Z",
     "iopub.status.idle": "2020-09-19T18:25:05.447233Z",
     "shell.execute_reply": "2020-09-19T18:25:05.447601Z"
    },
    "papermill": {
     "duration": 0.049686,
     "end_time": "2020-09-19T18:25:05.447747",
     "exception": false,
     "start_time": "2020-09-19T18:25:05.398061",
     "status": "completed"
    },
    "tags": []
   },
   "outputs": [],
   "source": [
    "def clean_numeric(x):\n",
    "    try:\n",
    "        return float(x)\n",
    "    except:\n",
    "        return np.nan"
   ]
  },
  {
   "cell_type": "markdown",
   "metadata": {
    "papermill": {
     "duration": 0.043378,
     "end_time": "2020-09-19T18:25:05.534457",
     "exception": false,
     "start_time": "2020-09-19T18:25:05.491079",
     "status": "completed"
    },
    "tags": []
   },
   "source": [
    "<span dir=\"rtl\" align=\"right\">\n",
    "\n",
    "#### سنقوم بتحويل السنة إلى رقم في عمود منفصل من خلال استخراجه من تاريخ إصدار الفيلم\n",
    "</span>"
   ]
  },
  {
   "cell_type": "code",
   "execution_count": 15,
   "metadata": {
    "execution": {
     "iopub.execute_input": "2020-09-19T18:25:05.625463Z",
     "iopub.status.busy": "2020-09-19T18:25:05.624961Z",
     "iopub.status.idle": "2020-09-19T18:25:06.000603Z",
     "shell.execute_reply": "2020-09-19T18:25:06.001049Z"
    },
    "papermill": {
     "duration": 0.421964,
     "end_time": "2020-09-19T18:25:06.001195",
     "exception": false,
     "start_time": "2020-09-19T18:25:05.579231",
     "status": "completed"
    },
    "tags": []
   },
   "outputs": [],
   "source": [
    "df['year'] = pd.to_datetime(df['release_date'], errors='coerce').apply(lambda x: str(x).split('-')[0] if x != np.nan else np.nan)\n",
    "df['year'] = df['year'].replace('NaT', np.nan)\n",
    "df['year'] = df['year'].apply(clean_numeric)"
   ]
  },
  {
   "cell_type": "markdown",
   "metadata": {
    "papermill": {
     "duration": 0.044892,
     "end_time": "2020-09-19T18:25:06.090102",
     "exception": false,
     "start_time": "2020-09-19T18:25:06.04521",
     "status": "completed"
    },
    "tags": []
   },
   "source": [
    "<span dir=\"rtl\" align=\"right\">\n",
    "\n",
    "### استعراض أكثر الكلمات تكرارًا في عناوين الأفلام\n",
    "</span>"
   ]
  },
  {
   "cell_type": "code",
   "execution_count": 16,
   "metadata": {
    "_cell_guid": "925be64f-6ac4-42e5-8a29-d8d1877004a3",
    "_uuid": "0285d463d7fe21da1e7a3a8f9b55857a1d4bf3a6",
    "execution": {
     "iopub.execute_input": "2020-09-19T18:25:06.18985Z",
     "iopub.status.busy": "2020-09-19T18:25:06.188934Z",
     "iopub.status.idle": "2020-09-19T18:25:06.198195Z",
     "shell.execute_reply": "2020-09-19T18:25:06.198632Z"
    },
    "papermill": {
     "duration": 0.06514,
     "end_time": "2020-09-19T18:25:06.198778",
     "exception": false,
     "start_time": "2020-09-19T18:25:06.133638",
     "status": "completed"
    },
    "tags": []
   },
   "outputs": [],
   "source": [
    "# تحويل نوع العمود إلى نص\n",
    "df['title'] = df['title'].astype('str')\n",
    "title_corpus = ' '.join(df['title'])"
   ]
  },
  {
   "cell_type": "code",
   "execution_count": 17,
   "metadata": {
    "_cell_guid": "8bea7150-7957-4bd2-9816-6cb44ca50bbb",
    "_uuid": "6de442a39614aa4e1e8771eac8e6d8bd15f073c7",
    "execution": {
     "iopub.execute_input": "2020-09-19T18:25:06.289373Z",
     "iopub.status.busy": "2020-09-19T18:25:06.288524Z",
     "iopub.status.idle": "2020-09-19T18:25:28.45467Z",
     "shell.execute_reply": "2020-09-19T18:25:28.455156Z"
    },
    "papermill": {
     "duration": 22.213095,
     "end_time": "2020-09-19T18:25:28.455326",
     "exception": false,
     "start_time": "2020-09-19T18:25:06.242231",
     "status": "completed"
    },
    "tags": []
   },
   "outputs": [
    {
     "name": "stderr",
     "output_type": "stream",
     "text": [
      "Matplotlib is building the font cache using fc-list. This may take a moment.\n"
     ]
    },
    {
     "data": {
      "image/png": "[encoded data removed]",
      "text/plain": [
       "<Figure size 1152x576 with 1 Axes>"
      ]
     },
     "metadata": {},
     "output_type": "display_data"
    }
   ],
   "source": [
    "# رسم الصورة\n",
    "title_wordcloud = WordCloud(stopwords=STOPWORDS, background_color='white', height=2000, width=4000).generate(title_corpus)\n",
    "plt.figure(figsize=(16,8))\n",
    "plt.imshow(title_wordcloud)\n",
    "plt.axis('off')\n",
    "plt.show()"
   ]
  },
  {
   "cell_type": "markdown",
   "metadata": {
    "papermill": {
     "duration": 0.052965,
     "end_time": "2020-09-19T18:25:28.562249",
     "exception": false,
     "start_time": "2020-09-19T18:25:28.509284",
     "status": "completed"
    },
    "tags": []
   },
   "source": [
    "<span dir=\"rtl\" align=\"right\">\n",
    "\n",
    "### كلمة Love هي أكثر كلمة تكرر استعمالها في عناوين الأفلام، تليها كلمات مثل Girl, Day, Man, أيضًا تكرر استعمالهن كثيرًا، وهذا قد يرجع إلى ميل الأفلام إلى اظهار الطابع الرومانسي.\n",
    "</span>"
   ]
  },
  {
   "cell_type": "markdown",
   "metadata": {
    "papermill": {
     "duration": 0.052728,
     "end_time": "2020-09-19T18:25:28.672979",
     "exception": false,
     "start_time": "2020-09-19T18:25:28.620251",
     "status": "completed"
    },
    "tags": []
   },
   "source": [
    "<span dir=\"rtl\" align=\"right\">\n",
    "\n",
    "## سلاسل الأفلام\n",
    "</span>"
   ]
  },
  {
   "cell_type": "code",
   "execution_count": 18,
   "metadata": {
    "_cell_guid": "529e50b7-f811-4d00-9184-b44d184b824c",
    "_uuid": "4b6279f52fa0da506d4fb4e877c538d44433099a",
    "execution": {
     "iopub.execute_input": "2020-09-19T18:25:28.786474Z",
     "iopub.status.busy": "2020-09-19T18:25:28.785136Z",
     "iopub.status.idle": "2020-09-19T18:25:28.883284Z",
     "shell.execute_reply": "2020-09-19T18:25:28.882672Z"
    },
    "papermill": {
     "duration": 0.158223,
     "end_time": "2020-09-19T18:25:28.88339",
     "exception": false,
     "start_time": "2020-09-19T18:25:28.725167",
     "status": "completed"
    },
    "tags": []
   },
   "outputs": [],
   "source": [
    "# تنظيف بيانات سلاسل الأفلام\n",
    "df_fran = df[df['belongs_to_collection'].notnull()]\n",
    "df_fran['belongs_to_collection'] = df_fran['belongs_to_collection'].apply(ast.literal_eval).apply(lambda x: x['name'] if isinstance(x, dict) else np.nan)\n",
    "df_fran = df_fran[df_fran['belongs_to_collection'].notnull()]"
   ]
  },
  {
   "cell_type": "code",
   "execution_count": 19,
   "metadata": {
    "_cell_guid": "660fc21b-7100-4689-a179-0f0d184a5252",
    "_uuid": "2be5874cd42a8730b9a2e8f0ecb4f7fedffe4c2f",
    "execution": {
     "iopub.execute_input": "2020-09-19T18:25:28.997932Z",
     "iopub.status.busy": "2020-09-19T18:25:28.997064Z",
     "iopub.status.idle": "2020-09-19T18:25:29.017906Z",
     "shell.execute_reply": "2020-09-19T18:25:29.017386Z"
    },
    "papermill": {
     "duration": 0.080978,
     "end_time": "2020-09-19T18:25:29.018029",
     "exception": false,
     "start_time": "2020-09-19T18:25:28.937051",
     "status": "completed"
    },
    "tags": []
   },
   "outputs": [],
   "source": [
    "fran_pivot = df_fran.pivot_table(index='belongs_to_collection', values='revenue', aggfunc={'revenue': ['mean', 'sum', 'count']}).reset_index()"
   ]
  },
  {
   "cell_type": "markdown",
   "metadata": {},
   "source": [
    "<span dir=\"rtl\" align=\"right\">\n",
    "\n",
    "### أكثر سلاسل الأفلام نجاحًا بحسب معدل الإيرادات\n",
    "</span>"
   ]
  },
  {
   "cell_type": "code",
   "execution_count": 20,
   "metadata": {
    "_cell_guid": "95317ed4-9f69-4221-8729-2b20d6a4378d",
    "_uuid": "07474f86476e890405fac3b0a07d291c24237bc2",
    "execution": {
     "iopub.execute_input": "2020-09-19T18:25:29.283147Z",
     "iopub.status.busy": "2020-09-19T18:25:29.282602Z",
     "iopub.status.idle": "2020-09-19T18:25:29.293087Z",
     "shell.execute_reply": "2020-09-19T18:25:29.293447Z"
    },
    "papermill": {
     "duration": 0.068127,
     "end_time": "2020-09-19T18:25:29.293599",
     "exception": false,
     "start_time": "2020-09-19T18:25:29.225472",
     "status": "completed"
    },
    "tags": []
   },
   "outputs": [
    {
     "data": {
      "text/html": [
       "<div>\n",
       "<style scoped>\n",
       "    .dataframe tbody tr th:only-of-type {\n",
       "        vertical-align: middle;\n",
       "    }\n",
       "\n",
       "    .dataframe tbody tr th {\n",
       "        vertical-align: top;\n",
       "    }\n",
       "\n",
       "    .dataframe thead th {\n",
       "        text-align: right;\n",
       "    }\n",
       "</style>\n",
       "<table border=\"1\" class=\"dataframe\">\n",
       "  <thead>\n",
       "    <tr style=\"text-align: right;\">\n",
       "      <th></th>\n",
       "      <th>belongs_to_collection</th>\n",
       "      <th>count</th>\n",
       "      <th>mean</th>\n",
       "      <th>sum</th>\n",
       "    </tr>\n",
       "  </thead>\n",
       "  <tbody>\n",
       "    <tr>\n",
       "      <td>112</td>\n",
       "      <td>Avatar Collection</td>\n",
       "      <td>1</td>\n",
       "      <td>2.787965e+09</td>\n",
       "      <td>2.787965e+09</td>\n",
       "    </tr>\n",
       "    <tr>\n",
       "      <td>1245</td>\n",
       "      <td>The Avengers Collection</td>\n",
       "      <td>2</td>\n",
       "      <td>1.462481e+09</td>\n",
       "      <td>2.924962e+09</td>\n",
       "    </tr>\n",
       "    <tr>\n",
       "      <td>479</td>\n",
       "      <td>Frozen Collection</td>\n",
       "      <td>1</td>\n",
       "      <td>1.274219e+09</td>\n",
       "      <td>1.274219e+09</td>\n",
       "    </tr>\n",
       "    <tr>\n",
       "      <td>446</td>\n",
       "      <td>Finding Nemo Collection</td>\n",
       "      <td>2</td>\n",
       "      <td>9.844532e+08</td>\n",
       "      <td>1.968906e+09</td>\n",
       "    </tr>\n",
       "    <tr>\n",
       "      <td>1352</td>\n",
       "      <td>The Hobbit Collection</td>\n",
       "      <td>3</td>\n",
       "      <td>9.785078e+08</td>\n",
       "      <td>2.935523e+09</td>\n",
       "    </tr>\n",
       "    <tr>\n",
       "      <td>1388</td>\n",
       "      <td>The Lord of the Rings Collection</td>\n",
       "      <td>3</td>\n",
       "      <td>9.721816e+08</td>\n",
       "      <td>2.916545e+09</td>\n",
       "    </tr>\n",
       "    <tr>\n",
       "      <td>552</td>\n",
       "      <td>Harry Potter Collection</td>\n",
       "      <td>8</td>\n",
       "      <td>9.634209e+08</td>\n",
       "      <td>7.707367e+09</td>\n",
       "    </tr>\n",
       "    <tr>\n",
       "      <td>1160</td>\n",
       "      <td>Star Wars Collection</td>\n",
       "      <td>8</td>\n",
       "      <td>9.293118e+08</td>\n",
       "      <td>7.434495e+09</td>\n",
       "    </tr>\n",
       "    <tr>\n",
       "      <td>325</td>\n",
       "      <td>Despicable Me Collection</td>\n",
       "      <td>4</td>\n",
       "      <td>9.227676e+08</td>\n",
       "      <td>3.691070e+09</td>\n",
       "    </tr>\n",
       "    <tr>\n",
       "      <td>968</td>\n",
       "      <td>Pirates of the Caribbean Collection</td>\n",
       "      <td>5</td>\n",
       "      <td>9.043154e+08</td>\n",
       "      <td>4.521577e+09</td>\n",
       "    </tr>\n",
       "  </tbody>\n",
       "</table>\n",
       "</div>"
      ],
      "text/plain": [
       "                    belongs_to_collection  count          mean           sum\n",
       "112                     Avatar Collection      1  2.787965e+09  2.787965e+09\n",
       "1245              The Avengers Collection      2  1.462481e+09  2.924962e+09\n",
       "479                     Frozen Collection      1  1.274219e+09  1.274219e+09\n",
       "446               Finding Nemo Collection      2  9.844532e+08  1.968906e+09\n",
       "1352                The Hobbit Collection      3  9.785078e+08  2.935523e+09\n",
       "1388     The Lord of the Rings Collection      3  9.721816e+08  2.916545e+09\n",
       "552               Harry Potter Collection      8  9.634209e+08  7.707367e+09\n",
       "1160                 Star Wars Collection      8  9.293118e+08  7.434495e+09\n",
       "325              Despicable Me Collection      4  9.227676e+08  3.691070e+09\n",
       "968   Pirates of the Caribbean Collection      5  9.043154e+08  4.521577e+09"
      ]
     },
     "execution_count": 20,
     "metadata": {},
     "output_type": "execute_result"
    }
   ],
   "source": [
    "# سنتعرض معدل نجاح السلاسل بحسب معدل الإيرادات\n",
    "fran_pivot.sort_values('mean', ascending=False).head(10)"
   ]
  },
  {
   "cell_type": "markdown",
   "metadata": {},
   "source": [
    "<span dir=\"rtl\" align=\"right\">\n",
    "\n",
    "#### تعد سلسلة أفاتار Avatar والتي تتكون من فيلم واحد فقط في ذلك الوقت، هي أكثر سلسلة ناجحة من حيث معدل الإيرادات بما يقارب ٣ مليار دولار، تليها سلسلة هاري بوتر Harry Potter المكونة من خمسة أفلام في ذلك الوقت.\n",
    "</span>"
   ]
  },
  {
   "cell_type": "markdown",
   "metadata": {
    "papermill": {
     "duration": 0.053271,
     "end_time": "2020-09-19T18:25:29.507547",
     "exception": false,
     "start_time": "2020-09-19T18:25:29.454276",
     "status": "completed"
    },
    "tags": []
   },
   "source": [
    "<span dir=\"rtl\" align=\"right\">\n",
    "\n",
    "## شركات الانتاج\n",
    "</span>"
   ]
  },
  {
   "cell_type": "code",
   "execution_count": 21,
   "metadata": {
    "_cell_guid": "64da44ec-9210-4796-910c-4494d59d53b7",
    "_uuid": "0377fb5ae7de4c7a11f13c0c7c7df3ced781d2e3",
    "execution": {
     "iopub.execute_input": "2020-09-19T18:25:29.621415Z",
     "iopub.status.busy": "2020-09-19T18:25:29.620827Z",
     "iopub.status.idle": "2020-09-19T18:25:30.675306Z",
     "shell.execute_reply": "2020-09-19T18:25:30.675739Z"
    },
    "papermill": {
     "duration": 1.113089,
     "end_time": "2020-09-19T18:25:30.675891",
     "exception": false,
     "start_time": "2020-09-19T18:25:29.562802",
     "status": "completed"
    },
    "tags": []
   },
   "outputs": [],
   "source": [
    "# تجهيز بيانات شركات الإنتاج\n",
    "df['production_companies'] = df['production_companies'].fillna('[]').apply(ast.literal_eval)\n",
    "df['production_companies'] = df['production_companies'].apply(lambda x: [i['name'] for i in x] if isinstance(x, list) else [])"
   ]
  },
  {
   "cell_type": "code",
   "execution_count": 22,
   "metadata": {
    "_cell_guid": "695ed3c8-398e-447b-9cdf-3a2eafc91658",
    "_uuid": "df144753af752859adf9ca6f18c7a7fa19dcc989",
    "execution": {
     "iopub.execute_input": "2020-09-19T18:25:30.788558Z",
     "iopub.status.busy": "2020-09-19T18:25:30.787997Z",
     "iopub.status.idle": "2020-09-19T18:25:46.010065Z",
     "shell.execute_reply": "2020-09-19T18:25:46.009577Z"
    },
    "papermill": {
     "duration": 15.28038,
     "end_time": "2020-09-19T18:25:46.010177",
     "exception": false,
     "start_time": "2020-09-19T18:25:30.729797",
     "status": "completed"
    },
    "tags": []
   },
   "outputs": [],
   "source": [
    "s = df.apply(lambda x: pd.Series(x['production_companies']),axis=1).stack().reset_index(level=1, drop=True)\n",
    "s.name = 'companies'"
   ]
  },
  {
   "cell_type": "code",
   "execution_count": 23,
   "metadata": {
    "_cell_guid": "d5585a3b-e5b6-4acc-a626-c82814c4887c",
    "_uuid": "fbabd3cd73449aa83f53a78c71397f664acddfdd",
    "execution": {
     "iopub.execute_input": "2020-09-19T18:25:46.135503Z",
     "iopub.status.busy": "2020-09-19T18:25:46.134592Z",
     "iopub.status.idle": "2020-09-19T18:25:46.244076Z",
     "shell.execute_reply": "2020-09-19T18:25:46.244466Z"
    },
    "papermill": {
     "duration": 0.18034,
     "end_time": "2020-09-19T18:25:46.244607",
     "exception": false,
     "start_time": "2020-09-19T18:25:46.064267",
     "status": "completed"
    },
    "tags": []
   },
   "outputs": [],
   "source": [
    "com_df = df.drop('production_companies', axis=1).join(s)"
   ]
  },
  {
   "cell_type": "code",
   "execution_count": 24,
   "metadata": {
    "_cell_guid": "2946eb43-36a6-4077-a7fc-dd598c91763f",
    "_uuid": "ffe57b3750d1378e23844aeb1196d5283f7cd399",
    "execution": {
     "iopub.execute_input": "2020-09-19T18:25:46.402786Z",
     "iopub.status.busy": "2020-09-19T18:25:46.400512Z",
     "iopub.status.idle": "2020-09-19T18:25:46.527589Z",
     "shell.execute_reply": "2020-09-19T18:25:46.527Z"
    },
    "papermill": {
     "duration": 0.229501,
     "end_time": "2020-09-19T18:25:46.52769",
     "exception": false,
     "start_time": "2020-09-19T18:25:46.298189",
     "status": "completed"
    },
    "tags": []
   },
   "outputs": [],
   "source": [
    "# تجميع الأفلام حسب شركات الإنتاج\n",
    "# جمع إيرادات الأفلام لكل شركة\n",
    "com_sum = pd.DataFrame(com_df.groupby('companies')['revenue'].sum().sort_values(ascending=False))\n",
    "com_sum.columns = ['Total']\n",
    "# معدل إيرادات الأفلام لكل شركة\n",
    "com_mean = pd.DataFrame(com_df.groupby('companies')['revenue'].mean().sort_values(ascending=False))\n",
    "com_mean.columns = ['Average']\n",
    "# عدد الأفلام لكل شركة\n",
    "com_count = pd.DataFrame(com_df.groupby('companies')['revenue'].count().sort_values(ascending=False))\n",
    "com_count.columns = ['Number']\n",
    "# تجميع القيم أعلاه معًا\n",
    "com_pivot = pd.concat((com_sum, com_mean, com_count), axis=1)"
   ]
  },
  {
   "cell_type": "markdown",
   "metadata": {
    "papermill": {
     "duration": 0.054856,
     "end_time": "2020-09-19T18:25:46.646892",
     "exception": false,
     "start_time": "2020-09-19T18:25:46.592036",
     "status": "completed"
    },
    "tags": []
   },
   "source": [
    "<span dir=\"rtl\" align=\"right\">\n",
    "\n",
    "### أكثر شركات الانتاج نجاحًا\n",
    "#### ما هي شركات الانتاج التي انتجت أعلى متوسط في عدد الأفلام الناجحة؟ سنأخذ بالاعتبار الشركات التي انتجت على الأقل ١٥ فيلمًا\n",
    "\n",
    "</span>"
   ]
  },
  {
   "cell_type": "code",
   "execution_count": 25,
   "metadata": {
    "_cell_guid": "b28d172e-46e1-43ea-a02e-c5ba20df1066",
    "_uuid": "459bb5d40dbcff8c383e38693e2ce1370a599e40",
    "execution": {
     "iopub.execute_input": "2020-09-19T18:25:46.759111Z",
     "iopub.status.busy": "2020-09-19T18:25:46.758486Z",
     "iopub.status.idle": "2020-09-19T18:25:46.768153Z",
     "shell.execute_reply": "2020-09-19T18:25:46.768539Z"
    },
    "papermill": {
     "duration": 0.068593,
     "end_time": "2020-09-19T18:25:46.768666",
     "exception": false,
     "start_time": "2020-09-19T18:25:46.700073",
     "status": "completed"
    },
    "tags": []
   },
   "outputs": [
    {
     "data": {
      "text/html": [
       "<div>\n",
       "<style scoped>\n",
       "    .dataframe tbody tr th:only-of-type {\n",
       "        vertical-align: middle;\n",
       "    }\n",
       "\n",
       "    .dataframe tbody tr th {\n",
       "        vertical-align: top;\n",
       "    }\n",
       "\n",
       "    .dataframe thead th {\n",
       "        text-align: right;\n",
       "    }\n",
       "</style>\n",
       "<table border=\"1\" class=\"dataframe\">\n",
       "  <thead>\n",
       "    <tr style=\"text-align: right;\">\n",
       "      <th></th>\n",
       "      <th>Total</th>\n",
       "      <th>Average</th>\n",
       "      <th>Number</th>\n",
       "    </tr>\n",
       "  </thead>\n",
       "  <tbody>\n",
       "    <tr>\n",
       "      <td>Pixar Animation Studios</td>\n",
       "      <td>1.118853e+10</td>\n",
       "      <td>6.215852e+08</td>\n",
       "      <td>18</td>\n",
       "    </tr>\n",
       "    <tr>\n",
       "      <td>Marvel Studios</td>\n",
       "      <td>1.169964e+10</td>\n",
       "      <td>6.157703e+08</td>\n",
       "      <td>19</td>\n",
       "    </tr>\n",
       "    <tr>\n",
       "      <td>Revolution Sun Studios</td>\n",
       "      <td>8.120339e+09</td>\n",
       "      <td>5.413559e+08</td>\n",
       "      <td>15</td>\n",
       "    </tr>\n",
       "    <tr>\n",
       "      <td>Lucasfilm</td>\n",
       "      <td>9.898421e+09</td>\n",
       "      <td>4.499282e+08</td>\n",
       "      <td>22</td>\n",
       "    </tr>\n",
       "    <tr>\n",
       "      <td>DreamWorks Animation</td>\n",
       "      <td>1.370752e+10</td>\n",
       "      <td>4.031622e+08</td>\n",
       "      <td>34</td>\n",
       "    </tr>\n",
       "    <tr>\n",
       "      <td>DC Entertainment</td>\n",
       "      <td>6.212609e+09</td>\n",
       "      <td>3.882880e+08</td>\n",
       "      <td>16</td>\n",
       "    </tr>\n",
       "    <tr>\n",
       "      <td>Dentsu</td>\n",
       "      <td>6.853205e+09</td>\n",
       "      <td>3.807336e+08</td>\n",
       "      <td>18</td>\n",
       "    </tr>\n",
       "    <tr>\n",
       "      <td>Jerry Bruckheimer Films</td>\n",
       "      <td>8.957441e+09</td>\n",
       "      <td>3.732267e+08</td>\n",
       "      <td>24</td>\n",
       "    </tr>\n",
       "    <tr>\n",
       "      <td>Marvel Enterprises</td>\n",
       "      <td>6.538067e+09</td>\n",
       "      <td>3.441088e+08</td>\n",
       "      <td>19</td>\n",
       "    </tr>\n",
       "    <tr>\n",
       "      <td>Legendary Pictures</td>\n",
       "      <td>1.346866e+10</td>\n",
       "      <td>3.367166e+08</td>\n",
       "      <td>40</td>\n",
       "    </tr>\n",
       "  </tbody>\n",
       "</table>\n",
       "</div>"
      ],
      "text/plain": [
       "                                Total       Average  Number\n",
       "Pixar Animation Studios  1.118853e+10  6.215852e+08      18\n",
       "Marvel Studios           1.169964e+10  6.157703e+08      19\n",
       "Revolution Sun Studios   8.120339e+09  5.413559e+08      15\n",
       "Lucasfilm                9.898421e+09  4.499282e+08      22\n",
       "DreamWorks Animation     1.370752e+10  4.031622e+08      34\n",
       "DC Entertainment         6.212609e+09  3.882880e+08      16\n",
       "Dentsu                   6.853205e+09  3.807336e+08      18\n",
       "Jerry Bruckheimer Films  8.957441e+09  3.732267e+08      24\n",
       "Marvel Enterprises       6.538067e+09  3.441088e+08      19\n",
       "Legendary Pictures       1.346866e+10  3.367166e+08      40"
      ]
     },
     "execution_count": 25,
     "metadata": {},
     "output_type": "execute_result"
    }
   ],
   "source": [
    "com_pivot[com_pivot['Number'] >= 15].sort_values('Average', ascending=False).head(10)"
   ]
  },
  {
   "cell_type": "markdown",
   "metadata": {
    "papermill": {
     "duration": 0.053602,
     "end_time": "2020-09-19T18:25:46.876354",
     "exception": false,
     "start_time": "2020-09-19T18:25:46.822752",
     "status": "completed"
    },
    "tags": []
   },
   "source": [
    "<span dir=\"rtl\" align=\"right\">\n",
    "\n",
    "#### شركة بكسار أنيمشن ستديوز Pixal Animation Studios قد انتجت أكثر الأفلام نجاحًا من حيث المتوسط، وهذا ليس مفاجئًا باعتبار أنها الشركة المنتجة للعديد من أفلام الانميشن الناحجة مثل Finding Nemo, Inside Out, Wall-E, Toy Story, Cars وغيرهم. تليها مارفل ستديوز Marvel Studios التي حققت ٦١٥ مليون دولار وأشهر أفلامها Iron Man, The Avengers.\n",
    "\n",
    "</span>"
   ]
  },
  {
   "cell_type": "markdown",
   "metadata": {
    "papermill": {
     "duration": 0.054167,
     "end_time": "2020-09-19T18:25:46.9843",
     "exception": false,
     "start_time": "2020-09-19T18:25:46.930133",
     "status": "completed"
    },
    "tags": []
   },
   "source": [
    "<span dir=\"rtl\" align=\"right\">\n",
    "\n",
    "## لغة الفيلم الأصلية\n",
    "### بما أن الانجليزية هي اللغة الأكثر استعمالاً، سنرى بقية اللغات وتوزيعها من حيث عدد الأفلام المستعملة لهذه اللغة كلغة أصلية\n",
    "    \n",
    "</span>"
   ]
  },
  {
   "cell_type": "code",
   "execution_count": 26,
   "metadata": {
    "_cell_guid": "7add5349-b912-40fd-9e7d-8ee1300e9ae6",
    "_uuid": "1c7d401fa5eec05719f0953cdddd1022e024af2b",
    "execution": {
     "iopub.execute_input": "2020-09-19T18:25:47.096442Z",
     "iopub.status.busy": "2020-09-19T18:25:47.09591Z",
     "iopub.status.idle": "2020-09-19T18:25:47.101799Z",
     "shell.execute_reply": "2020-09-19T18:25:47.102178Z"
    },
    "papermill": {
     "duration": 0.063555,
     "end_time": "2020-09-19T18:25:47.102324",
     "exception": false,
     "start_time": "2020-09-19T18:25:47.038769",
     "status": "completed"
    },
    "tags": []
   },
   "outputs": [
    {
     "data": {
      "text/plain": [
       "93"
      ]
     },
     "execution_count": 26,
     "metadata": {},
     "output_type": "execute_result"
    }
   ],
   "source": [
    "# عدد اللغات\n",
    "df['original_language'].drop_duplicates().shape[0]"
   ]
  },
  {
   "cell_type": "markdown",
   "metadata": {
    "papermill": {
     "duration": 0.054302,
     "end_time": "2020-09-19T18:25:47.211432",
     "exception": false,
     "start_time": "2020-09-19T18:25:47.15713",
     "status": "completed"
    },
    "tags": []
   },
   "source": [
    "<span dir=\"rtl\" align=\"right\">\n",
    "\n",
    "### سننشئ جدول بيانات جديد، ونضع فيه اللغات المستخدمة وتكرار استخدام كل لغة\n",
    "\n",
    "</span>"
   ]
  },
  {
   "cell_type": "code",
   "execution_count": 27,
   "metadata": {
    "_cell_guid": "e04947fa-b909-4b5e-b7b2-42c87770352a",
    "_uuid": "dfde6e6093ed1a82e30ed39d944abf91b952daa2",
    "execution": {
     "iopub.execute_input": "2020-09-19T18:25:47.323468Z",
     "iopub.status.busy": "2020-09-19T18:25:47.322936Z",
     "iopub.status.idle": "2020-09-19T18:25:47.337064Z",
     "shell.execute_reply": "2020-09-19T18:25:47.33744Z"
    },
    "papermill": {
     "duration": 0.071834,
     "end_time": "2020-09-19T18:25:47.337573",
     "exception": false,
     "start_time": "2020-09-19T18:25:47.265739",
     "status": "completed"
    },
    "tags": []
   },
   "outputs": [
    {
     "data": {
      "text/html": [
       "<div>\n",
       "<style scoped>\n",
       "    .dataframe tbody tr th:only-of-type {\n",
       "        vertical-align: middle;\n",
       "    }\n",
       "\n",
       "    .dataframe tbody tr th {\n",
       "        vertical-align: top;\n",
       "    }\n",
       "\n",
       "    .dataframe thead th {\n",
       "        text-align: right;\n",
       "    }\n",
       "</style>\n",
       "<table border=\"1\" class=\"dataframe\">\n",
       "  <thead>\n",
       "    <tr style=\"text-align: right;\">\n",
       "      <th></th>\n",
       "      <th>number</th>\n",
       "      <th>language</th>\n",
       "    </tr>\n",
       "  </thead>\n",
       "  <tbody>\n",
       "    <tr>\n",
       "      <td>en</td>\n",
       "      <td>32269</td>\n",
       "      <td>en</td>\n",
       "    </tr>\n",
       "    <tr>\n",
       "      <td>fr</td>\n",
       "      <td>2438</td>\n",
       "      <td>fr</td>\n",
       "    </tr>\n",
       "    <tr>\n",
       "      <td>it</td>\n",
       "      <td>1529</td>\n",
       "      <td>it</td>\n",
       "    </tr>\n",
       "    <tr>\n",
       "      <td>ja</td>\n",
       "      <td>1350</td>\n",
       "      <td>ja</td>\n",
       "    </tr>\n",
       "    <tr>\n",
       "      <td>de</td>\n",
       "      <td>1080</td>\n",
       "      <td>de</td>\n",
       "    </tr>\n",
       "  </tbody>\n",
       "</table>\n",
       "</div>"
      ],
      "text/plain": [
       "    number language\n",
       "en   32269       en\n",
       "fr    2438       fr\n",
       "it    1529       it\n",
       "ja    1350       ja\n",
       "de    1080       de"
      ]
     },
     "execution_count": 27,
     "metadata": {},
     "output_type": "execute_result"
    }
   ],
   "source": [
    "lang_df = pd.DataFrame(df['original_language'].value_counts())\n",
    "lang_df['language'] = lang_df.index\n",
    "lang_df.columns = ['number', 'language']\n",
    "lang_df.head()"
   ]
  },
  {
   "cell_type": "markdown",
   "metadata": {
    "_cell_guid": "b363fe1c-23eb-45ca-9880-5c4653cae485",
    "_uuid": "3795f361faf123a247b530548e1154f38cbc561a",
    "papermill": {
     "duration": 0.054928,
     "end_time": "2020-09-19T18:25:47.447415",
     "exception": false,
     "start_time": "2020-09-19T18:25:47.392487",
     "status": "completed"
    },
    "tags": []
   },
   "source": [
    "There are over 93 languages represented in our dataset. As we had expected, English language films form the overwhelmingly majority. French and Italian movies come at a very distant second and third respectively. Let us represent the most popular languages (apart from English) in the form of a bar plot."
   ]
  },
  {
   "cell_type": "code",
   "execution_count": 28,
   "metadata": {
    "_cell_guid": "315006c1-1527-41bd-b4c2-e935251f0d4e",
    "_uuid": "032339be3734a6b7445ab2f43688b9fbb9399ce2",
    "execution": {
     "iopub.execute_input": "2020-09-19T18:25:47.560628Z",
     "iopub.status.busy": "2020-09-19T18:25:47.560103Z",
     "iopub.status.idle": "2020-09-19T18:25:47.741849Z",
     "shell.execute_reply": "2020-09-19T18:25:47.742257Z"
    },
    "papermill": {
     "duration": 0.240163,
     "end_time": "2020-09-19T18:25:47.742395",
     "exception": false,
     "start_time": "2020-09-19T18:25:47.502232",
     "status": "completed"
    },
    "tags": []
   },
   "outputs": [
    {
     "data": {
      "image/png": "[encoded data removed]",
      "text/plain": [
       "<Figure size 864x360 with 1 Axes>"
      ]
     },
     "metadata": {},
     "output_type": "display_data"
    }
   ],
   "source": [
    "# استعراض عدد الأفلام لأبرز اللغات الغير إنجليزية\n",
    "plt.figure(figsize=(12,5))\n",
    "sns.barplot(x='language', y='number', data=lang_df.iloc[1:11])\n",
    "plt.show()"
   ]
  },
  {
   "cell_type": "markdown",
   "metadata": {
    "papermill": {
     "duration": 0.054833,
     "end_time": "2020-09-19T18:25:47.852878",
     "exception": false,
     "start_time": "2020-09-19T18:25:47.798045",
     "status": "completed"
    },
    "tags": []
   },
   "source": [
    "<span dir=\"rtl\" align=\"right\">\n",
    "\n",
    "#### اللغة الفرنسية والايطالية هي أكثر اللغات استعمالًا بعد الانجليزية. اليابانية والهندية هما الأعلى في اللغات الآسيوية.\n",
    "\n",
    "</span>"
   ]
  },
  {
   "cell_type": "markdown",
   "metadata": {
    "papermill": {
     "duration": 0.056049,
     "end_time": "2020-09-19T18:25:47.963979",
     "exception": false,
     "start_time": "2020-09-19T18:25:47.90793",
     "status": "completed"
    },
    "tags": []
   },
   "source": [
    "<span dir=\"rtl\" align=\"right\">\n",
    "\n",
    "## تواريخ الاصدار\n",
    "\n",
    "</span>"
   ]
  },
  {
   "cell_type": "markdown",
   "metadata": {
    "papermill": {
     "duration": 0.055379,
     "end_time": "2020-09-19T18:25:48.186291",
     "exception": false,
     "start_time": "2020-09-19T18:25:48.130912",
     "status": "completed"
    },
    "tags": []
   },
   "source": [
    "<span dir=\"rtl\" align=\"right\">\n",
    "\n",
    "#### سنقوم الآن باستخراج شهر اصدار الفيلم من عمود release_date ونضعه في عمود مستقل.\n",
    "\n",
    "</span>"
   ]
  },
  {
   "cell_type": "code",
   "execution_count": 29,
   "metadata": {
    "_cell_guid": "46c2c44b-1c90-4386-950f-999c4f251bcb",
    "_uuid": "6394b891b5bc56ba4e8f40fc2738d366e1636bdf",
    "execution": {
     "iopub.execute_input": "2020-09-19T18:25:48.300545Z",
     "iopub.status.busy": "2020-09-19T18:25:48.299998Z",
     "iopub.status.idle": "2020-09-19T18:25:48.303632Z",
     "shell.execute_reply": "2020-09-19T18:25:48.304087Z"
    },
    "papermill": {
     "duration": 0.062325,
     "end_time": "2020-09-19T18:25:48.304211",
     "exception": false,
     "start_time": "2020-09-19T18:25:48.241886",
     "status": "completed"
    },
    "tags": []
   },
   "outputs": [],
   "source": [
    "# أرقام الشهور\n",
    "month_order = ['Jan', 'Feb', 'Mar', 'Apr', 'May', 'Jun', 'Jul', 'Aug', 'Sep', 'Oct', 'Nov', 'Dec']"
   ]
  },
  {
   "cell_type": "code",
   "execution_count": 30,
   "metadata": {
    "_cell_guid": "d0d186f6-ee22-4062-812a-1f2a1bbf27a1",
    "_uuid": "0d756782b22a73630ad4a255a34e347a5fa56406",
    "execution": {
     "iopub.execute_input": "2020-09-19T18:25:48.418462Z",
     "iopub.status.busy": "2020-09-19T18:25:48.417861Z",
     "iopub.status.idle": "2020-09-19T18:25:48.421559Z",
     "shell.execute_reply": "2020-09-19T18:25:48.422106Z"
    },
    "papermill": {
     "duration": 0.062268,
     "end_time": "2020-09-19T18:25:48.42224",
     "exception": false,
     "start_time": "2020-09-19T18:25:48.359972",
     "status": "completed"
    },
    "tags": []
   },
   "outputs": [],
   "source": [
    "def get_month(x):\n",
    "    try:\n",
    "        return month_order[int(str(x).split('-')[1]) - 1]\n",
    "    except:\n",
    "        return np.nan"
   ]
  },
  {
   "cell_type": "code",
   "execution_count": 31,
   "metadata": {
    "_cell_guid": "f85706b5-8c08-4ed6-8636-15f4e1ab9bb3",
    "_uuid": "35947e8f6c26efe70be94124a081524ece119190",
    "execution": {
     "iopub.execute_input": "2020-09-19T18:25:48.537455Z",
     "iopub.status.busy": "2020-09-19T18:25:48.536912Z",
     "iopub.status.idle": "2020-09-19T18:25:48.572412Z",
     "shell.execute_reply": "2020-09-19T18:25:48.572897Z"
    },
    "papermill": {
     "duration": 0.094209,
     "end_time": "2020-09-19T18:25:48.573024",
     "exception": false,
     "start_time": "2020-09-19T18:25:48.478815",
     "status": "completed"
    },
    "tags": []
   },
   "outputs": [],
   "source": [
    "# الحصول على الشهر من التاريخ\n",
    "df['month'] = df['release_date'].apply(get_month)"
   ]
  },
  {
   "cell_type": "markdown",
   "metadata": {
    "_cell_guid": "73c4c733-ba82-44aa-ae08-cf85750106aa",
    "_uuid": "b3543ade267eba610b0469e693301b0d51c20fe6",
    "papermill": {
     "duration": 0.056341,
     "end_time": "2020-09-19T18:25:48.690518",
     "exception": false,
     "start_time": "2020-09-19T18:25:48.634177",
     "status": "completed"
    },
    "tags": []
   },
   "source": [
    "<span dir=\"rtl\" align=\"right\">\n",
    "\n",
    "### الآن يمكننا رسم متوسط عوائد الأفلام الأكثر رواجًا بحسب شهر اصدار الفيلم \n",
    "</span>"
   ]
  },
  {
   "cell_type": "code",
   "execution_count": 32,
   "metadata": {
    "_cell_guid": "a2bb569b-fdc2-4ad9-a0af-429a29690668",
    "_uuid": "3af6c851ffa4f4771ee7ab7990833c578f6f69e9",
    "execution": {
     "iopub.execute_input": "2020-09-19T18:25:48.804856Z",
     "iopub.status.busy": "2020-09-19T18:25:48.804211Z",
     "iopub.status.idle": "2020-09-19T18:25:49.033187Z",
     "shell.execute_reply": "2020-09-19T18:25:49.033651Z"
    },
    "papermill": {
     "duration": 0.287812,
     "end_time": "2020-09-19T18:25:49.033802",
     "exception": false,
     "start_time": "2020-09-19T18:25:48.74599",
     "status": "completed"
    },
    "tags": []
   },
   "outputs": [
    {
     "data": {
      "text/plain": [
       "<matplotlib.axes._subplots.AxesSubplot at 0x1a2330c3d0>"
      ]
     },
     "execution_count": 32,
     "metadata": {},
     "output_type": "execute_result"
    },
    {
     "data": {
      "image/png": "[encoded data removed]",
      "text/plain": [
       "<Figure size 864x432 with 1 Axes>"
      ]
     },
     "metadata": {},
     "output_type": "display_data"
    }
   ],
   "source": [
    "# انشاء جدول بيانات جديد يحتوي على الأفلام ذات متوسط الايرادات أعلى من مئة مليون دولار\n",
    "# مجمعة حسب شهر اصدارها\n",
    "month_mean = pd.DataFrame(df[df['revenue'] > 1e8].groupby('month')['revenue'].mean())\n",
    "\n",
    "# تحديد عمود الشهر ليكون هو العمود الأساسي للترقيم\n",
    "month_mean['mon'] = month_mean.index\n",
    "\n",
    "# الرسم\n",
    "plt.figure(figsize=(12,6))\n",
    "plt.title(\"Average Gross by the Month for Blockbuster Movies\")\n",
    "\n",
    "# الشهر هو المحور السيني\n",
    "# الايرادات هي المحور الصادي\n",
    "sns.barplot(x='mon', y='revenue', data=month_mean, order=month_order)"
   ]
  },
  {
   "cell_type": "markdown",
   "metadata": {
    "papermill": {
     "duration": 0.05655,
     "end_time": "2020-09-19T18:25:49.147834",
     "exception": false,
     "start_time": "2020-09-19T18:25:49.091284",
     "status": "completed"
    },
    "tags": []
   },
   "source": [
    "<span dir=\"rtl\" align=\"right\">\n",
    "\n",
    "#### يتضح من خلال الرسم أن شهر أبريل ومايو ويونيو هم أعلى الشهور من حيث متوسط الايرادات، حيث أنها تمثل شهور الصيف والتي يتوقع فيها أن يزيد استهلاك الأفراد في جانب الترفيه. \n",
    "</span>"
   ]
  },
  {
   "cell_type": "markdown",
   "metadata": {
    "papermill": {
     "duration": 0.056049,
     "end_time": "2020-09-19T18:25:47.963979",
     "exception": false,
     "start_time": "2020-09-19T18:25:47.90793",
     "status": "completed"
    },
    "tags": []
   },
   "source": [
    "<span dir=\"rtl\" align=\"right\">\n",
    "\n",
    "## الميزانية\n",
    "\n",
    "</span>"
   ]
  },
  {
   "cell_type": "code",
   "execution_count": 33,
   "metadata": {
    "_cell_guid": "8936d6a0-cf2b-4984-8236-a89ecfeb9741",
    "_uuid": "cb4d55a476ad5102a95538ec344aab0cdf0f8562",
    "execution": {
     "iopub.execute_input": "2020-09-19T18:25:49.493815Z",
     "iopub.status.busy": "2020-09-19T18:25:49.493217Z",
     "iopub.status.idle": "2020-09-19T18:25:49.502852Z",
     "shell.execute_reply": "2020-09-19T18:25:49.503232Z"
    },
    "papermill": {
     "duration": 0.070713,
     "end_time": "2020-09-19T18:25:49.503379",
     "exception": false,
     "start_time": "2020-09-19T18:25:49.432666",
     "status": "completed"
    },
    "tags": []
   },
   "outputs": [
    {
     "data": {
      "text/plain": [
       "count    8.890000e+03\n",
       "mean     2.160428e+07\n",
       "std      3.431063e+07\n",
       "min      1.000000e+00\n",
       "25%      2.000000e+06\n",
       "50%      8.000000e+06\n",
       "75%      2.500000e+07\n",
       "max      3.800000e+08\n",
       "Name: budget, dtype: float64"
      ]
     },
     "execution_count": 33,
     "metadata": {},
     "output_type": "execute_result"
    }
   ],
   "source": [
    "# ملخص إحصائي لميزانيات الأفلام\n",
    "df['budget'].describe()"
   ]
  },
  {
   "cell_type": "markdown",
   "metadata": {
    "papermill": {
     "duration": 0.056049,
     "end_time": "2020-09-19T18:25:47.963979",
     "exception": false,
     "start_time": "2020-09-19T18:25:47.90793",
     "status": "completed"
    },
    "tags": []
   },
   "source": [
    "<span dir=\"rtl\" align=\"right\">\n",
    "معدل الميزانية هو ٢١ مليون تقريبا بينما الوسيط هو  ٨. مليون تقريبًا، مما يظهر أن لدينا قيم شاذة (أي أفلام ذات ميزانية ضخمة أعلى من الأغلب)\n",
    "</span>"
   ]
  },
  {
   "cell_type": "markdown",
   "metadata": {
    "papermill": {
     "duration": 0.056049,
     "end_time": "2020-09-19T18:25:47.963979",
     "exception": false,
     "start_time": "2020-09-19T18:25:47.90793",
     "status": "completed"
    },
    "tags": []
   },
   "source": [
    "<span dir=\"rtl\" align=\"right\">\n",
    "\n",
    "### أعلى الأفلام ميزانية\n",
    "\n",
    "</span>"
   ]
  },
  {
   "cell_type": "code",
   "execution_count": 34,
   "metadata": {
    "_cell_guid": "a6b737fe-570c-486e-a811-7e02e803bbe3",
    "_uuid": "4a9d68e7869844179914ebb60f7f386b239a1f5c",
    "execution": {
     "iopub.execute_input": "2020-09-19T18:25:49.855093Z",
     "iopub.status.busy": "2020-09-19T18:25:49.854181Z",
     "iopub.status.idle": "2020-09-19T18:25:49.875552Z",
     "shell.execute_reply": "2020-09-19T18:25:49.875951Z"
    },
    "papermill": {
     "duration": 0.082016,
     "end_time": "2020-09-19T18:25:49.876087",
     "exception": false,
     "start_time": "2020-09-19T18:25:49.794071",
     "status": "completed"
    },
    "tags": []
   },
   "outputs": [
    {
     "data": {
      "text/html": [
       "<div>\n",
       "<style scoped>\n",
       "    .dataframe tbody tr th:only-of-type {\n",
       "        vertical-align: middle;\n",
       "    }\n",
       "\n",
       "    .dataframe tbody tr th {\n",
       "        vertical-align: top;\n",
       "    }\n",
       "\n",
       "    .dataframe thead th {\n",
       "        text-align: right;\n",
       "    }\n",
       "</style>\n",
       "<table border=\"1\" class=\"dataframe\">\n",
       "  <thead>\n",
       "    <tr style=\"text-align: right;\">\n",
       "      <th></th>\n",
       "      <th>title</th>\n",
       "      <th>budget</th>\n",
       "      <th>revenue</th>\n",
       "      <th>return</th>\n",
       "      <th>year</th>\n",
       "    </tr>\n",
       "  </thead>\n",
       "  <tbody>\n",
       "    <tr>\n",
       "      <td>17124</td>\n",
       "      <td>Pirates of the Caribbean: On Stranger Tides</td>\n",
       "      <td>380000000.0</td>\n",
       "      <td>1.045714e+09</td>\n",
       "      <td>2.751878</td>\n",
       "      <td>2011.0</td>\n",
       "    </tr>\n",
       "    <tr>\n",
       "      <td>11827</td>\n",
       "      <td>Pirates of the Caribbean: At World's End</td>\n",
       "      <td>300000000.0</td>\n",
       "      <td>9.610000e+08</td>\n",
       "      <td>3.203333</td>\n",
       "      <td>2007.0</td>\n",
       "    </tr>\n",
       "    <tr>\n",
       "      <td>26558</td>\n",
       "      <td>Avengers: Age of Ultron</td>\n",
       "      <td>280000000.0</td>\n",
       "      <td>1.405404e+09</td>\n",
       "      <td>5.019299</td>\n",
       "      <td>2015.0</td>\n",
       "    </tr>\n",
       "    <tr>\n",
       "      <td>11067</td>\n",
       "      <td>Superman Returns</td>\n",
       "      <td>270000000.0</td>\n",
       "      <td>3.910812e+08</td>\n",
       "      <td>1.448449</td>\n",
       "      <td>2006.0</td>\n",
       "    </tr>\n",
       "    <tr>\n",
       "      <td>44842</td>\n",
       "      <td>Transformers: The Last Knight</td>\n",
       "      <td>260000000.0</td>\n",
       "      <td>6.049421e+08</td>\n",
       "      <td>2.326701</td>\n",
       "      <td>2017.0</td>\n",
       "    </tr>\n",
       "    <tr>\n",
       "      <td>16130</td>\n",
       "      <td>Tangled</td>\n",
       "      <td>260000000.0</td>\n",
       "      <td>5.917949e+08</td>\n",
       "      <td>2.276134</td>\n",
       "      <td>2010.0</td>\n",
       "    </tr>\n",
       "    <tr>\n",
       "      <td>18685</td>\n",
       "      <td>John Carter</td>\n",
       "      <td>260000000.0</td>\n",
       "      <td>2.841391e+08</td>\n",
       "      <td>1.092843</td>\n",
       "      <td>2012.0</td>\n",
       "    </tr>\n",
       "    <tr>\n",
       "      <td>11780</td>\n",
       "      <td>Spider-Man 3</td>\n",
       "      <td>258000000.0</td>\n",
       "      <td>8.908716e+08</td>\n",
       "      <td>3.452991</td>\n",
       "      <td>2007.0</td>\n",
       "    </tr>\n",
       "    <tr>\n",
       "      <td>21175</td>\n",
       "      <td>The Lone Ranger</td>\n",
       "      <td>255000000.0</td>\n",
       "      <td>8.928991e+07</td>\n",
       "      <td>0.350157</td>\n",
       "      <td>2013.0</td>\n",
       "    </tr>\n",
       "    <tr>\n",
       "      <td>22059</td>\n",
       "      <td>The Hobbit: The Desolation of Smaug</td>\n",
       "      <td>250000000.0</td>\n",
       "      <td>9.584000e+08</td>\n",
       "      <td>3.833600</td>\n",
       "      <td>2013.0</td>\n",
       "    </tr>\n",
       "  </tbody>\n",
       "</table>\n",
       "</div>"
      ],
      "text/plain": [
       "                                             title       budget       revenue  \\\n",
       "17124  Pirates of the Caribbean: On Stranger Tides  380000000.0  1.045714e+09   \n",
       "11827     Pirates of the Caribbean: At World's End  300000000.0  9.610000e+08   \n",
       "26558                      Avengers: Age of Ultron  280000000.0  1.405404e+09   \n",
       "11067                             Superman Returns  270000000.0  3.910812e+08   \n",
       "44842                Transformers: The Last Knight  260000000.0  6.049421e+08   \n",
       "16130                                      Tangled  260000000.0  5.917949e+08   \n",
       "18685                                  John Carter  260000000.0  2.841391e+08   \n",
       "11780                                 Spider-Man 3  258000000.0  8.908716e+08   \n",
       "21175                              The Lone Ranger  255000000.0  8.928991e+07   \n",
       "22059          The Hobbit: The Desolation of Smaug  250000000.0  9.584000e+08   \n",
       "\n",
       "         return    year  \n",
       "17124  2.751878  2011.0  \n",
       "11827  3.203333  2007.0  \n",
       "26558  5.019299  2015.0  \n",
       "11067  1.448449  2006.0  \n",
       "44842  2.326701  2017.0  \n",
       "16130  2.276134  2010.0  \n",
       "18685  1.092843  2012.0  \n",
       "11780  3.452991  2007.0  \n",
       "21175  0.350157  2013.0  \n",
       "22059  3.833600  2013.0  "
      ]
     },
     "execution_count": 34,
     "metadata": {},
     "output_type": "execute_result"
    }
   ],
   "source": [
    "df[df['budget'].notnull()][['title', 'budget', 'revenue', 'return', 'year']].sort_values('budget', ascending=False).head(10)"
   ]
  },
  {
   "cell_type": "markdown",
   "metadata": {},
   "source": [
    "<span dir=\"rtl\" align=\"right\">\n",
    "\n",
    "#### تعد أفلام  Pirates of the Carribean هي الأعلى من حيث الميزانية بما يتعدى ٣٠٠ مليون دولار\n",
    "</span>"
   ]
  },
  {
   "cell_type": "markdown",
   "metadata": {
    "_cell_guid": "f68e29de-3857-4be3-ad19-ae90393a1940",
    "_uuid": "52791f360f22724698a6afdd91372013d4e6a5ba",
    "papermill": {
     "duration": 0.058202,
     "end_time": "2020-09-19T18:25:49.993283",
     "exception": false,
     "start_time": "2020-09-19T18:25:49.935081",
     "status": "completed"
    },
    "tags": []
   },
   "source": [
    "Two **Pirates of the Carribean** films occupy the top spots in this list with a staggering budget of over **300 million dollars**. All the top 10 most expensive films made a profit on their investment except for **The Lone Ranger** which managed to recoup less than 35% of its investment, taking in a paltry 90 million dollars on a **255 million dollar** budget.\n",
    "\n",
    "How strong a correlation does the budget hold with the revenue? A stronger correlation would directly imply more accurate forecasts."
   ]
  },
  {
   "cell_type": "markdown",
   "metadata": {
    "papermill": {
     "duration": 0.056049,
     "end_time": "2020-09-19T18:25:47.963979",
     "exception": false,
     "start_time": "2020-09-19T18:25:47.90793",
     "status": "completed"
    },
    "tags": []
   },
   "source": [
    "<span dir=\"rtl\" align=\"right\">\n",
    "هل توجد علاقة بين الميزانية و العائدات؟\n",
    "</span>"
   ]
  },
  {
   "cell_type": "code",
   "execution_count": 35,
   "metadata": {},
   "outputs": [
    {
     "data": {
      "text/plain": [
       "<seaborn.axisgrid.JointGrid at 0x1a20732090>"
      ]
     },
     "execution_count": 35,
     "metadata": {},
     "output_type": "execute_result"
    },
    {
     "data": {
      "image/png": "[encoded data removed]",
      "text/plain": [
       "<Figure size 432x432 with 3 Axes>"
      ]
     },
     "metadata": {},
     "output_type": "display_data"
    }
   ],
   "source": [
    "# علاقة الميزاينة مع الإيرادات\n",
    "sns.jointplot(x='budget',y='revenue',data=df[df['return'].notnull()])"
   ]
  },
  {
   "cell_type": "markdown",
   "metadata": {
    "papermill": {
     "duration": 0.056049,
     "end_time": "2020-09-19T18:25:47.963979",
     "exception": false,
     "start_time": "2020-09-19T18:25:47.90793",
     "status": "completed"
    },
    "tags": []
   },
   "source": [
    "<span dir=\"rtl\" align=\"right\">\n",
    "\n",
    "#### مما نلاحظه توجد علاقة طردية بين الإيرادات و الميزانية\n",
    "</span>"
   ]
  },
  {
   "cell_type": "markdown",
   "metadata": {
    "_cell_guid": "3a03df7e-351e-4f45-be7d-ca5e865e147c",
    "_uuid": "6d5589445a96444681322f4555bb18922cdb0869",
    "papermill": {
     "duration": 0.057135,
     "end_time": "2020-09-19T18:25:50.108507",
     "exception": false,
     "start_time": "2020-09-19T18:25:50.051372",
     "status": "completed"
    },
    "tags": []
   },
   "source": [
    "<span dir=\"rtl\" align=\"right\">\n",
    "\n",
    "## التصنيفات\n",
    "\n",
    "</span>"
   ]
  },
  {
   "cell_type": "code",
   "execution_count": 36,
   "metadata": {
    "_cell_guid": "94698a20-8bc7-41ac-9cc0-00eb9aafdfbe",
    "_uuid": "d83d58f01d761555be287ebb1352f1111ae73730",
    "execution": {
     "iopub.execute_input": "2020-09-19T18:25:50.243035Z",
     "iopub.status.busy": "2020-09-19T18:25:50.238021Z",
     "iopub.status.idle": "2020-09-19T18:26:05.961451Z",
     "shell.execute_reply": "2020-09-19T18:26:05.96193Z"
    },
    "papermill": {
     "duration": 15.796111,
     "end_time": "2020-09-19T18:26:05.962092",
     "exception": false,
     "start_time": "2020-09-19T18:25:50.165981",
     "status": "completed"
    },
    "tags": []
   },
   "outputs": [],
   "source": [
    "# تجهيز بيانات تصنيف الأفلام\n",
    "df['genres'] = df['genres'].fillna('[]').apply(ast.literal_eval).apply(lambda x: [i['name'] for i in x] if isinstance(x, list) else [])\n",
    "s = df.apply(lambda x: pd.Series(x['genres']),axis=1).stack().reset_index(level=1, drop=True)\n",
    "s.name = 'genre'"
   ]
  },
  {
   "cell_type": "code",
   "execution_count": 37,
   "metadata": {
    "_cell_guid": "118a8148-8110-4e0d-901c-6f0cdfd1d87c",
    "_uuid": "c7c8169ed387344d514bb97df4e7a76262cba69d",
    "execution": {
     "iopub.execute_input": "2020-09-19T18:26:06.083723Z",
     "iopub.status.busy": "2020-09-19T18:26:06.083146Z",
     "iopub.status.idle": "2020-09-19T18:26:06.207329Z",
     "shell.execute_reply": "2020-09-19T18:26:06.207829Z"
    },
    "papermill": {
     "duration": 0.185941,
     "end_time": "2020-09-19T18:26:06.20797",
     "exception": false,
     "start_time": "2020-09-19T18:26:06.022029",
     "status": "completed"
    },
    "tags": []
   },
   "outputs": [],
   "source": [
    "# إنشاء جدول بيانات جديد يحمل عمود genres.\n",
    "gen_df = df.drop('genres', axis=1).join(s)"
   ]
  },
  {
   "cell_type": "code",
   "execution_count": 38,
   "metadata": {
    "_cell_guid": "609338c4-4d99-4af8-aa2b-ca9478f1acf5",
    "_uuid": "01e32b9b382a186867c6cccd252435875d65ae5c",
    "execution": {
     "iopub.execute_input": "2020-09-19T18:26:06.328459Z",
     "iopub.status.busy": "2020-09-19T18:26:06.327891Z",
     "iopub.status.idle": "2020-09-19T18:26:06.352536Z",
     "shell.execute_reply": "2020-09-19T18:26:06.352106Z"
    },
    "papermill": {
     "duration": 0.086066,
     "end_time": "2020-09-19T18:26:06.352647",
     "exception": false,
     "start_time": "2020-09-19T18:26:06.266581",
     "status": "completed"
    },
    "tags": []
   },
   "outputs": [
    {
     "data": {
      "text/plain": [
       "32"
      ]
     },
     "execution_count": 38,
     "metadata": {},
     "output_type": "execute_result"
    }
   ],
   "source": [
    "# لإيجاد إجمالي عدد التصنيفات لدينا\n",
    "gen_df['genre'].value_counts().shape[0]"
   ]
  },
  {
   "cell_type": "code",
   "execution_count": 39,
   "metadata": {
    "_cell_guid": "ea144ea9-dfe5-42e9-9c06-37cc0e75d0bb",
    "_uuid": "56600558af3f9c273a196d48ed255c8d4a45e45c",
    "execution": {
     "iopub.execute_input": "2020-09-19T18:26:06.490921Z",
     "iopub.status.busy": "2020-09-19T18:26:06.490316Z",
     "iopub.status.idle": "2020-09-19T18:26:06.499453Z",
     "shell.execute_reply": "2020-09-19T18:26:06.499943Z"
    },
    "papermill": {
     "duration": 0.088828,
     "end_time": "2020-09-19T18:26:06.500077",
     "exception": false,
     "start_time": "2020-09-19T18:26:06.411249",
     "status": "completed"
    },
    "tags": []
   },
   "outputs": [
    {
     "data": {
      "text/html": [
       "<div>\n",
       "<style scoped>\n",
       "    .dataframe tbody tr th:only-of-type {\n",
       "        vertical-align: middle;\n",
       "    }\n",
       "\n",
       "    .dataframe tbody tr th {\n",
       "        vertical-align: top;\n",
       "    }\n",
       "\n",
       "    .dataframe thead th {\n",
       "        text-align: right;\n",
       "    }\n",
       "</style>\n",
       "<table border=\"1\" class=\"dataframe\">\n",
       "  <thead>\n",
       "    <tr style=\"text-align: right;\">\n",
       "      <th></th>\n",
       "      <th>genre</th>\n",
       "      <th>movies</th>\n",
       "    </tr>\n",
       "  </thead>\n",
       "  <tbody>\n",
       "    <tr>\n",
       "      <td>0</td>\n",
       "      <td>Drama</td>\n",
       "      <td>20265</td>\n",
       "    </tr>\n",
       "    <tr>\n",
       "      <td>1</td>\n",
       "      <td>Comedy</td>\n",
       "      <td>13182</td>\n",
       "    </tr>\n",
       "    <tr>\n",
       "      <td>2</td>\n",
       "      <td>Thriller</td>\n",
       "      <td>7624</td>\n",
       "    </tr>\n",
       "    <tr>\n",
       "      <td>3</td>\n",
       "      <td>Romance</td>\n",
       "      <td>6735</td>\n",
       "    </tr>\n",
       "    <tr>\n",
       "      <td>4</td>\n",
       "      <td>Action</td>\n",
       "      <td>6596</td>\n",
       "    </tr>\n",
       "    <tr>\n",
       "      <td>5</td>\n",
       "      <td>Horror</td>\n",
       "      <td>4673</td>\n",
       "    </tr>\n",
       "    <tr>\n",
       "      <td>6</td>\n",
       "      <td>Crime</td>\n",
       "      <td>4307</td>\n",
       "    </tr>\n",
       "    <tr>\n",
       "      <td>7</td>\n",
       "      <td>Documentary</td>\n",
       "      <td>3932</td>\n",
       "    </tr>\n",
       "    <tr>\n",
       "      <td>8</td>\n",
       "      <td>Adventure</td>\n",
       "      <td>3496</td>\n",
       "    </tr>\n",
       "    <tr>\n",
       "      <td>9</td>\n",
       "      <td>Science Fiction</td>\n",
       "      <td>3049</td>\n",
       "    </tr>\n",
       "  </tbody>\n",
       "</table>\n",
       "</div>"
      ],
      "text/plain": [
       "             genre  movies\n",
       "0            Drama   20265\n",
       "1           Comedy   13182\n",
       "2         Thriller    7624\n",
       "3          Romance    6735\n",
       "4           Action    6596\n",
       "5           Horror    4673\n",
       "6            Crime    4307\n",
       "7      Documentary    3932\n",
       "8        Adventure    3496\n",
       "9  Science Fiction    3049"
      ]
     },
     "execution_count": 39,
     "metadata": {},
     "output_type": "execute_result"
    }
   ],
   "source": [
    "# إنشاء جدول بيانات جديد يحمل عدد الأفلام في كل تصنيف\n",
    "pop_gen = pd.DataFrame(gen_df['genre'].value_counts()).reset_index()\n",
    "pop_gen.columns = ['genre', 'movies']\n",
    "pop_gen.head(10)"
   ]
  },
  {
   "cell_type": "markdown",
   "metadata": {
    "papermill": {
     "duration": 0.059601,
     "end_time": "2020-09-19T18:26:06.619502",
     "exception": false,
     "start_time": "2020-09-19T18:26:06.559901",
     "status": "completed"
    },
    "tags": []
   },
   "source": [
    "<span dir=\"rtl\" align=\"right\">\n",
    "\n",
    "## لرسم عدد الأفلام لكل تصنيف:\n",
    "</span>"
   ]
  },
  {
   "cell_type": "code",
   "execution_count": 40,
   "metadata": {
    "_cell_guid": "d6e8cf4a-9990-443e-82a9-9fb2a72e9295",
    "_uuid": "0023cda126d2bda37ce5e3d7794ce6626104e802",
    "execution": {
     "iopub.execute_input": "2020-09-19T18:26:06.741429Z",
     "iopub.status.busy": "2020-09-19T18:26:06.740909Z",
     "iopub.status.idle": "2020-09-19T18:26:06.990028Z",
     "shell.execute_reply": "2020-09-19T18:26:06.990454Z"
    },
    "papermill": {
     "duration": 0.311396,
     "end_time": "2020-09-19T18:26:06.990592",
     "exception": false,
     "start_time": "2020-09-19T18:26:06.679196",
     "status": "completed"
    },
    "tags": []
   },
   "outputs": [
    {
     "data": {
      "image/png": "[encoded data removed]",
      "text/plain": [
       "<Figure size 1296x576 with 1 Axes>"
      ]
     },
     "metadata": {},
     "output_type": "display_data"
    }
   ],
   "source": [
    "plt.figure(figsize=(18,8))\n",
    "sns.barplot(x='genre', y='movies', data=pop_gen.head(15))\n",
    "plt.show()"
   ]
  },
  {
   "cell_type": "markdown",
   "metadata": {
    "papermill": {
     "duration": 0.062239,
     "end_time": "2020-09-19T18:26:07.112987",
     "exception": false,
     "start_time": "2020-09-19T18:26:07.050748",
     "status": "completed"
    },
    "tags": []
   },
   "source": [
    "<span dir=\"rtl\" align=\"right\">\n",
    "\n",
    "### نلاحظ أن أفلام الدراما تحوز على أكبر عدد من الأفلام، حوالي نصف عدد الأفلام في ملف البيانات تصنف على أنها أفلام دراما، تليها الأفلام الكوميدية بحوالي ٢٥٪ من إجمالي الأفلام، ثم البقية مثل أفلام الأكشن ثم الرعب، ثم الجريمة، وغيرها.\n",
    "</span>"
   ]
  },
  {
   "cell_type": "code",
   "execution_count": 41,
   "metadata": {
    "_cell_guid": "6084dff9-f369-498d-bdaa-20b48e627048",
    "_uuid": "111c8895361f0cc786c3b66ddcd902884f700c09",
    "execution": {
     "iopub.execute_input": "2020-09-19T18:26:07.239228Z",
     "iopub.status.busy": "2020-09-19T18:26:07.23859Z",
     "iopub.status.idle": "2020-09-19T18:26:07.240294Z",
     "shell.execute_reply": "2020-09-19T18:26:07.240672Z"
    },
    "papermill": {
     "duration": 0.067237,
     "end_time": "2020-09-19T18:26:07.240821",
     "exception": false,
     "start_time": "2020-09-19T18:26:07.173584",
     "status": "completed"
    },
    "tags": []
   },
   "outputs": [],
   "source": [
    "genres = ['Drama', 'Comedy', 'Thriller', 'Romance', 'Action', 'Horror', 'Crime', 'Adventure', 'Science Fiction', 'Mystery', 'Fantasy', 'Mystery', 'Animation']"
   ]
  },
  {
   "cell_type": "markdown",
   "metadata": {
    "papermill": {
     "duration": 0.056049,
     "end_time": "2020-09-19T18:25:47.963979",
     "exception": false,
     "start_time": "2020-09-19T18:25:47.90793",
     "status": "completed"
    },
    "tags": []
   },
   "source": [
    "<span dir=\"rtl\" align=\"right\">\n",
    "\n",
    "###  سنقوم باستعراض نسب كل تصنيف من الأفلام لكل سنة في العقد العشرين\n",
    "</span>"
   ]
  },
  {
   "cell_type": "code",
   "execution_count": 42,
   "metadata": {
    "_cell_guid": "cc468b5e-1557-4d3a-8020-85572270f1ef",
    "_uuid": "8251e9d4eef6373f8c1386a12308d8e9ed4e3a93",
    "execution": {
     "iopub.execute_input": "2020-09-19T18:26:07.365503Z",
     "iopub.status.busy": "2020-09-19T18:26:07.365007Z",
     "iopub.status.idle": "2020-09-19T18:26:08.088882Z",
     "shell.execute_reply": "2020-09-19T18:26:08.088379Z"
    },
    "papermill": {
     "duration": 0.787426,
     "end_time": "2020-09-19T18:26:08.088987",
     "exception": false,
     "start_time": "2020-09-19T18:26:07.301561",
     "status": "completed"
    },
    "tags": []
   },
   "outputs": [
    {
     "data": {
      "image/png": "[encoded data removed]",
      "text/plain": [
       "<Figure size 864x576 with 1 Axes>"
      ]
     },
     "metadata": {},
     "output_type": "display_data"
    }
   ],
   "source": [
    "# لجلب الأفلام في العقد العشرين فقط\n",
    "pop_gen_movies = gen_df[(gen_df['genre'].isin(genres)) & (gen_df['year'] >= 2000) & (gen_df['year'] <= 2017)]\n",
    "# a cross-tabulation table that can show the frequency of each genrein a cerain year\n",
    "ctab = pd.crosstab([pop_gen_movies['year']], pop_gen_movies['genre']).apply(lambda x: x/x.sum(), axis=1)\n",
    "ctab[genres].plot(kind='bar', stacked=True, colormap='jet', figsize=(12,8)).legend(loc='center left', bbox_to_anchor=(1, 0.5))\n",
    "plt.title(\"Stacked Bar Chart of Movie Proportions by Genre\")\n",
    "plt.show()"
   ]
  },
  {
   "cell_type": "code",
   "execution_count": 43,
   "metadata": {},
   "outputs": [
    {
     "data": {
      "image/png": "[encoded data removed]",
      "text/plain": [
       "<Figure size 864x576 with 1 Axes>"
      ]
     },
     "metadata": {},
     "output_type": "display_data"
    }
   ],
   "source": [
    "ctab[genres].plot(kind='line', stacked=False, colormap='jet', figsize=(12,8)).legend(loc='center left', bbox_to_anchor=(1, 0.5))\n",
    "plt.show()"
   ]
  },
  {
   "cell_type": "markdown",
   "metadata": {},
   "source": [
    "The proportion of movies of each genre has remained fairly constant since the beginning of this century except for Drama. The proportion of drama films has fallen by over 5%. Thriller movies have enjoyed a slight increase in their share."
   ]
  },
  {
   "cell_type": "markdown",
   "metadata": {
    "papermill": {
     "duration": 0.10017,
     "end_time": "2020-09-19T18:26:08.268647",
     "exception": false,
     "start_time": "2020-09-19T18:26:08.168477",
     "status": "completed"
    },
    "tags": []
   },
   "source": [
    "<span dir=\"rtl\" align=\"right\">\n",
    "\n",
    "#### تقريبًا كم الأفلام لكل قسم بقي ثابتًا في كل عام على مدار العقد\n",
    "#### حيث أن أفلام الدراما هي الأكثر ثم الكوميدية\n",
    "</span>"
   ]
  },
  {
   "cell_type": "code",
   "execution_count": 44,
   "metadata": {
    "_cell_guid": "27c71ee8-4121-4e52-b789-3893d7d09454",
    "_uuid": "a94d5c8b2b645e2b64e297b3d68a5f18bf49a5a2",
    "execution": {
     "iopub.execute_input": "2020-09-19T18:26:08.408428Z",
     "iopub.status.busy": "2020-09-19T18:26:08.407654Z",
     "iopub.status.idle": "2020-09-19T18:26:08.425028Z",
     "shell.execute_reply": "2020-09-19T18:26:08.424434Z"
    },
    "papermill": {
     "duration": 0.092775,
     "end_time": "2020-09-19T18:26:08.425135",
     "exception": false,
     "start_time": "2020-09-19T18:26:08.33236",
     "status": "completed"
    },
    "tags": []
   },
   "outputs": [],
   "source": [
    "# مسميات التصنيفات\n",
    "violin_genres = ['Drama', 'Comedy', 'Thriller', 'Romance', 'Action', 'Horror', 'Crime', 'Science Fiction', 'Fantasy', 'Animation']\n",
    "violin_movies = gen_df[(gen_df['genre'].isin(violin_genres))]"
   ]
  },
  {
   "cell_type": "code",
   "execution_count": 45,
   "metadata": {
    "_cell_guid": "3b2b4bed-584c-4efb-a2a4-17f630e36a29",
    "_uuid": "8bd05b44d6a42ff6d9ed1d723f2448adbc5f4720",
    "execution": {
     "iopub.execute_input": "2020-09-19T18:26:08.561425Z",
     "iopub.status.busy": "2020-09-19T18:26:08.560411Z",
     "iopub.status.idle": "2020-09-19T18:26:08.962518Z",
     "shell.execute_reply": "2020-09-19T18:26:08.962077Z"
    },
    "papermill": {
     "duration": 0.473689,
     "end_time": "2020-09-19T18:26:08.962621",
     "exception": false,
     "start_time": "2020-09-19T18:26:08.488932",
     "status": "completed"
    },
    "tags": []
   },
   "outputs": [
    {
     "data": {
      "text/plain": [
       "<Figure size 1296x576 with 0 Axes>"
      ]
     },
     "metadata": {},
     "output_type": "display_data"
    },
    {
     "data": {
      "image/png": "[encoded data removed]",
      "text/plain": [
       "<Figure size 1080x576 with 1 Axes>"
      ]
     },
     "metadata": {},
     "output_type": "display_data"
    }
   ],
   "source": [
    "plt.figure(figsize=(18,8))\n",
    "fig, ax = plt.subplots(nrows=1, ncols=1,figsize=(15, 8))\n",
    "# لرسم بوكس بلوت يمثل التصنيف فيه المحور السيني والإيرادات المحور الصادي\n",
    "sns.boxplot(x='genre', y='revenue', data=violin_movies, palette=\"muted\", ax =ax)\n",
    "# لتحديد مقياس المحور الصادي (من صفر إلى ٣٠٠ مليون دولار)\n",
    "ax.set_ylim([0, 3e8])\n",
    "plt.show()"
   ]
  },
  {
   "cell_type": "markdown",
   "metadata": {
    "_cell_guid": "ed4b51d7-1a66-465c-9557-9146ae7969d1",
    "_uuid": "33773bc7ea54d28e1c1df66b0982f801eb8e8d0d",
    "papermill": {
     "duration": 0.064259,
     "end_time": "2020-09-19T18:26:09.092258",
     "exception": false,
     "start_time": "2020-09-19T18:26:09.027999",
     "status": "completed"
    },
    "tags": []
   },
   "source": [
    "**Animation** movies has the largest 25-75 range as well as the median revenue among all the genres plotted. **Fantasy** and **Science Fiction** have the second and third highest median revenue respectively. "
   ]
  },
  {
   "cell_type": "markdown",
   "metadata": {
    "papermill": {
     "duration": 0.064396,
     "end_time": "2020-09-19T18:26:09.22102",
     "exception": false,
     "start_time": "2020-09-19T18:26:09.156624",
     "status": "completed"
    },
    "tags": []
   },
   "source": [
    "<span dir=\"rtl\" align=\"right\">\n",
    "\n",
    "### يقوم الرسم بتقسيم إيرادات كل تصنيف\n",
    "#### سنركز على القسم الموضح داخل صندوق، والذي يمثل ٢٥٪ و ٧٥٪ من البيانات، حيث يهمل البيانات الصغيرة جدًا والبيانات الكبيرة جدًا بما في ذلك البيانات الشاذة.\n",
    "#### ونلاحظ أن أفلام الأنميشن هي التي تحمل أعلى إجمالي إيرادات للقسم المذكور، بالاضافة لأعلى قيمة للوسيط الحسابي للإيرادات، تليها أفلام الفانتزيا والخيال العلمي.. \n",
    "\n",
    "</span>"
   ]
  }
 ],
 "metadata": {
  "kernelspec": {
   "display_name": "Python 3",
   "language": "python",
   "name": "python3"
  },
  "language_info": {
   "codemirror_mode": {
    "name": "ipython",
    "version": 3
   },
   "file_extension": ".py",
   "mimetype": "text/x-python",
   "name": "python",
   "nbconvert_exporter": "python",
   "pygments_lexer": "ipython3",
   "version": "3.7.4"
  }
 },
 "nbformat": 4,
 "nbformat_minor": 4
}
